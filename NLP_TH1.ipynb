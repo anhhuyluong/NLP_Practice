{
  "nbformat": 4,
  "nbformat_minor": 0,
  "metadata": {
    "colab": {
      "provenance": []
    },
    "kernelspec": {
      "name": "python3",
      "display_name": "Python 3"
    },
    "language_info": {
      "name": "python"
    }
  },
  "cells": [
    {
      "cell_type": "markdown",
      "source": [
        "**BÀI THỰC HÀNH 1 - PHÂN LỚP VĂN BẢN VỚI NAIVE BAYES VÀ LOGISTICREGRESSION**\n",
        "\n",
        "NỘI DUNG:\n",
        "\n",
        "*   CHUẨN BỊ NƠI LƯU TRỮ VÀ DỮ LIỆU\n",
        "*   SỬ DỤNG THƯ VIỆN\n",
        "*   CÀI ĐẶT THỦ CÔNG\n"
      ],
      "metadata": {
        "id": "Lplt623xKG0M"
      }
    },
    {
      "cell_type": "markdown",
      "source": [
        "**1) CHUẨN BỊ NƠI LƯU TRỮ VÀ DỮ LIỆU**\n",
        "\n",
        "Chúng ta sẽ dùng Google Drive để lưu trữ dữ liệu và những kết quả cần thiết. Google Drive được ánh xạ vào đường dẫn /content/C/MyDrive.\n",
        "\n",
        "Sau đó, chúng ta cần upgrade kagglehub và scikit-learn để sử dụng phiên bản mới nhất."
      ],
      "metadata": {
        "id": "yEnc3_vtK1Ln"
      }
    },
    {
      "cell_type": "code",
      "source": [
        "from google.colab import drive\n",
        "\n",
        "drive.mount(\"/content/C\")\n",
        "!pip install --upgrade kagglehub\n",
        "!pip install --upgrade scikit-learn"
      ],
      "metadata": {
        "colab": {
          "base_uri": "https://localhost:8080/"
        },
        "id": "Mpsh63vqDQwf",
        "outputId": "7b9f2634-d796-41f5-d463-343502f9b58b"
      },
      "execution_count": 2,
      "outputs": [
        {
          "output_type": "stream",
          "name": "stdout",
          "text": [
            "Mounted at /content/C\n",
            "Requirement already satisfied: kagglehub in /usr/local/lib/python3.11/dist-packages (0.3.10)\n",
            "Collecting kagglehub\n",
            "  Downloading kagglehub-0.3.11-py3-none-any.whl.metadata (32 kB)\n",
            "Requirement already satisfied: packaging in /usr/local/lib/python3.11/dist-packages (from kagglehub) (24.2)\n",
            "Requirement already satisfied: pyyaml in /usr/local/lib/python3.11/dist-packages (from kagglehub) (6.0.2)\n",
            "Requirement already satisfied: requests in /usr/local/lib/python3.11/dist-packages (from kagglehub) (2.32.3)\n",
            "Requirement already satisfied: tqdm in /usr/local/lib/python3.11/dist-packages (from kagglehub) (4.67.1)\n",
            "Requirement already satisfied: charset-normalizer<4,>=2 in /usr/local/lib/python3.11/dist-packages (from requests->kagglehub) (3.4.1)\n",
            "Requirement already satisfied: idna<4,>=2.5 in /usr/local/lib/python3.11/dist-packages (from requests->kagglehub) (3.10)\n",
            "Requirement already satisfied: urllib3<3,>=1.21.1 in /usr/local/lib/python3.11/dist-packages (from requests->kagglehub) (2.3.0)\n",
            "Requirement already satisfied: certifi>=2017.4.17 in /usr/local/lib/python3.11/dist-packages (from requests->kagglehub) (2025.1.31)\n",
            "Downloading kagglehub-0.3.11-py3-none-any.whl (63 kB)\n",
            "\u001b[2K   \u001b[90m━━━━━━━━━━━━━━━━━━━━━━━━━━━━━━━━━━━━━━━━\u001b[0m \u001b[32m63.4/63.4 kB\u001b[0m \u001b[31m2.6 MB/s\u001b[0m eta \u001b[36m0:00:00\u001b[0m\n",
            "\u001b[?25hInstalling collected packages: kagglehub\n",
            "  Attempting uninstall: kagglehub\n",
            "    Found existing installation: kagglehub 0.3.10\n",
            "    Uninstalling kagglehub-0.3.10:\n",
            "      Successfully uninstalled kagglehub-0.3.10\n",
            "Successfully installed kagglehub-0.3.11\n",
            "Requirement already satisfied: scikit-learn in /usr/local/lib/python3.11/dist-packages (1.6.1)\n",
            "Requirement already satisfied: numpy>=1.19.5 in /usr/local/lib/python3.11/dist-packages (from scikit-learn) (2.0.2)\n",
            "Requirement already satisfied: scipy>=1.6.0 in /usr/local/lib/python3.11/dist-packages (from scikit-learn) (1.14.1)\n",
            "Requirement already satisfied: joblib>=1.2.0 in /usr/local/lib/python3.11/dist-packages (from scikit-learn) (1.4.2)\n",
            "Requirement already satisfied: threadpoolctl>=3.1.0 in /usr/local/lib/python3.11/dist-packages (from scikit-learn) (3.6.0)\n"
          ]
        }
      ]
    },
    {
      "cell_type": "markdown",
      "source": [
        "Tiếp theo, chúng ta sẽ tạo thư mục NLP trên Google Drive.\n",
        "\n",
        "Sau đó, chuyển đến thư mục vừa được tạo bằng lệnh\n",
        "cd của linux"
      ],
      "metadata": {
        "id": "oEZ0XyKvLmPh"
      }
    },
    {
      "cell_type": "code",
      "source": [
        "!mkdir /content/C/MyDrive/NLP\n",
        "%cd /content/C/MyDrive/NLP"
      ],
      "metadata": {
        "colab": {
          "base_uri": "https://localhost:8080/"
        },
        "id": "GxK7pC3XD67b",
        "outputId": "fb753bbc-6fb7-4a8f-e8f4-5881a602734e"
      },
      "execution_count": 3,
      "outputs": [
        {
          "output_type": "stream",
          "name": "stdout",
          "text": [
            "mkdir: cannot create directory ‘/content/C/MyDrive/NLP’: File exists\n",
            "/content/C/MyDrive/NLP\n"
          ]
        }
      ]
    },
    {
      "cell_type": "markdown",
      "source": [
        "Tiếp theo, chúng ta sẽ download dữ liệu SMS Spam từ kaggle. Và lưu file spam.csv vào thư mục NLP trên Google Drive"
      ],
      "metadata": {
        "id": "gcDELOHcNXj3"
      }
    },
    {
      "cell_type": "code",
      "source": [
        "import kagglehub\n",
        "path = kagglehub.dataset_download(\"uciml/sms-spam-collection-dataset\")\n",
        "%cp /root/.cache/kagglehub/datasets/uciml/sms-spam-collection-dataset/versions/1/spam.csv /content/C/MyDrive/NLP/\n"
      ],
      "metadata": {
        "id": "xcbpYVjGM6m_",
        "colab": {
          "base_uri": "https://localhost:8080/"
        },
        "outputId": "1257a2fe-6a7c-4fa6-98ed-0f01c59304bf"
      },
      "execution_count": 4,
      "outputs": [
        {
          "output_type": "stream",
          "name": "stdout",
          "text": [
            "Downloading from https://www.kaggle.com/api/v1/datasets/download/uciml/sms-spam-collection-dataset?dataset_version_number=1...\n"
          ]
        },
        {
          "output_type": "stream",
          "name": "stderr",
          "text": [
            "100%|██████████| 211k/211k [00:00<00:00, 17.5MB/s]"
          ]
        },
        {
          "output_type": "stream",
          "name": "stdout",
          "text": [
            "Extracting files...\n"
          ]
        },
        {
          "output_type": "stream",
          "name": "stderr",
          "text": [
            "\n"
          ]
        }
      ]
    },
    {
      "cell_type": "markdown",
      "source": [
        "**2) SỬ DỤNG THƯ VIỆN**\n",
        "\n",
        "Chúng ta sẽ sử dụng lớp MultiNomialNB, BernoulliNB và LogisticRegression của thư viện Scikit-Learn, đồng thời sử dụng các lớp tiền xử lý dữ liệu của thư viện NLTK, hiển thị biểu đồ với MathPlotLib, và tính các chỉ số đánh giá với thư viện Scikit-Learn.\n",
        "\n",
        "Chúng ta cũng download các file dữ liệu của NLTK khi cần, gồm \"punk_tab\" và \"stopwords\"."
      ],
      "metadata": {
        "id": "iUGhxFhCNdLL"
      }
    },
    {
      "cell_type": "code",
      "source": [
        "import matplotlib.pyplot as plt\n",
        "import numpy as np\n",
        "import pandas as pd\n",
        "\n",
        "import re # Regular Expression\n",
        "\n",
        "import nltk\n",
        "from nltk.corpus import stopwords\n",
        "from nltk.stem.porter import PorterStemmer\n",
        "from nltk.stem import WordNetLemmatizer\n",
        "\n",
        "from sklearn.feature_extraction.text import TfidfVectorizer\n",
        "\n",
        "from sklearn.preprocessing import LabelEncoder\n",
        "\n",
        "from sklearn.model_selection import train_test_split, cross_val_score\n",
        "\n",
        "from sklearn.naive_bayes import MultinomialNB, BernoulliNB\n",
        "from sklearn.linear_model import LogisticRegression\n",
        "from sklearn.metrics import precision_score, recall_score, classification_report, accuracy_score, f1_score, ConfusionMatrixDisplay\n",
        "from sklearn import metrics\n",
        "\n",
        "import seaborn as sns #Charts\n",
        "\n",
        "nltk.download('punkt_tab')\n",
        "nltk.download('stopwords')"
      ],
      "metadata": {
        "id": "MwVeurAoUDEd",
        "colab": {
          "base_uri": "https://localhost:8080/"
        },
        "outputId": "c749e2da-35f4-488a-fcb9-ff1a29dd5c0b"
      },
      "execution_count": 5,
      "outputs": [
        {
          "output_type": "stream",
          "name": "stderr",
          "text": [
            "[nltk_data] Downloading package punkt_tab to /root/nltk_data...\n",
            "[nltk_data]   Unzipping tokenizers/punkt_tab.zip.\n",
            "[nltk_data] Downloading package stopwords to /root/nltk_data...\n",
            "[nltk_data]   Unzipping corpora/stopwords.zip.\n"
          ]
        },
        {
          "output_type": "execute_result",
          "data": {
            "text/plain": [
              "True"
            ]
          },
          "metadata": {},
          "execution_count": 5
        }
      ]
    },
    {
      "cell_type": "markdown",
      "source": [
        "Tiếp theo, chúng ta sẽ đọc ngữ liệu SMS Spam bằng cách dùng thư viện Pandas. Sau đó đổi tên cột để thuận tiện cho việc xử lý sau này."
      ],
      "metadata": {
        "id": "02F7x3SjOldF"
      }
    },
    {
      "cell_type": "code",
      "source": [
        "dataset = pd.read_csv(\"spam.csv\", encoding=\"windows-1252\")\n",
        "dataset.info()\n",
        "dataset = dataset.drop(dataset[[\"Unnamed: 2\", \"Unnamed: 3\", \"Unnamed: 4\"]], axis=1)\n",
        "dataset.rename(columns = {\"v1\":\"Class\", \"v2\":\"Message\"}, inplace = True)\n",
        "dataset.head()"
      ],
      "metadata": {
        "colab": {
          "base_uri": "https://localhost:8080/",
          "height": 414
        },
        "id": "GWfOF-G1H0yr",
        "outputId": "719d5f87-fc3c-4c24-c22c-655003906be4"
      },
      "execution_count": 6,
      "outputs": [
        {
          "output_type": "stream",
          "name": "stdout",
          "text": [
            "<class 'pandas.core.frame.DataFrame'>\n",
            "RangeIndex: 5572 entries, 0 to 5571\n",
            "Data columns (total 5 columns):\n",
            " #   Column      Non-Null Count  Dtype \n",
            "---  ------      --------------  ----- \n",
            " 0   v1          5572 non-null   object\n",
            " 1   v2          5572 non-null   object\n",
            " 2   Unnamed: 2  50 non-null     object\n",
            " 3   Unnamed: 3  12 non-null     object\n",
            " 4   Unnamed: 4  6 non-null      object\n",
            "dtypes: object(5)\n",
            "memory usage: 217.8+ KB\n"
          ]
        },
        {
          "output_type": "execute_result",
          "data": {
            "text/plain": [
              "  Class                                            Message\n",
              "0   ham  Go until jurong point, crazy.. Available only ...\n",
              "1   ham                      Ok lar... Joking wif u oni...\n",
              "2  spam  Free entry in 2 a wkly comp to win FA Cup fina...\n",
              "3   ham  U dun say so early hor... U c already then say...\n",
              "4   ham  Nah I don't think he goes to usf, he lives aro..."
            ],
            "text/html": [
              "\n",
              "  <div id=\"df-8746224a-470a-4d28-b8c9-221aac3a257e\" class=\"colab-df-container\">\n",
              "    <div>\n",
              "<style scoped>\n",
              "    .dataframe tbody tr th:only-of-type {\n",
              "        vertical-align: middle;\n",
              "    }\n",
              "\n",
              "    .dataframe tbody tr th {\n",
              "        vertical-align: top;\n",
              "    }\n",
              "\n",
              "    .dataframe thead th {\n",
              "        text-align: right;\n",
              "    }\n",
              "</style>\n",
              "<table border=\"1\" class=\"dataframe\">\n",
              "  <thead>\n",
              "    <tr style=\"text-align: right;\">\n",
              "      <th></th>\n",
              "      <th>Class</th>\n",
              "      <th>Message</th>\n",
              "    </tr>\n",
              "  </thead>\n",
              "  <tbody>\n",
              "    <tr>\n",
              "      <th>0</th>\n",
              "      <td>ham</td>\n",
              "      <td>Go until jurong point, crazy.. Available only ...</td>\n",
              "    </tr>\n",
              "    <tr>\n",
              "      <th>1</th>\n",
              "      <td>ham</td>\n",
              "      <td>Ok lar... Joking wif u oni...</td>\n",
              "    </tr>\n",
              "    <tr>\n",
              "      <th>2</th>\n",
              "      <td>spam</td>\n",
              "      <td>Free entry in 2 a wkly comp to win FA Cup fina...</td>\n",
              "    </tr>\n",
              "    <tr>\n",
              "      <th>3</th>\n",
              "      <td>ham</td>\n",
              "      <td>U dun say so early hor... U c already then say...</td>\n",
              "    </tr>\n",
              "    <tr>\n",
              "      <th>4</th>\n",
              "      <td>ham</td>\n",
              "      <td>Nah I don't think he goes to usf, he lives aro...</td>\n",
              "    </tr>\n",
              "  </tbody>\n",
              "</table>\n",
              "</div>\n",
              "    <div class=\"colab-df-buttons\">\n",
              "\n",
              "  <div class=\"colab-df-container\">\n",
              "    <button class=\"colab-df-convert\" onclick=\"convertToInteractive('df-8746224a-470a-4d28-b8c9-221aac3a257e')\"\n",
              "            title=\"Convert this dataframe to an interactive table.\"\n",
              "            style=\"display:none;\">\n",
              "\n",
              "  <svg xmlns=\"http://www.w3.org/2000/svg\" height=\"24px\" viewBox=\"0 -960 960 960\">\n",
              "    <path d=\"M120-120v-720h720v720H120Zm60-500h600v-160H180v160Zm220 220h160v-160H400v160Zm0 220h160v-160H400v160ZM180-400h160v-160H180v160Zm440 0h160v-160H620v160ZM180-180h160v-160H180v160Zm440 0h160v-160H620v160Z\"/>\n",
              "  </svg>\n",
              "    </button>\n",
              "\n",
              "  <style>\n",
              "    .colab-df-container {\n",
              "      display:flex;\n",
              "      gap: 12px;\n",
              "    }\n",
              "\n",
              "    .colab-df-convert {\n",
              "      background-color: #E8F0FE;\n",
              "      border: none;\n",
              "      border-radius: 50%;\n",
              "      cursor: pointer;\n",
              "      display: none;\n",
              "      fill: #1967D2;\n",
              "      height: 32px;\n",
              "      padding: 0 0 0 0;\n",
              "      width: 32px;\n",
              "    }\n",
              "\n",
              "    .colab-df-convert:hover {\n",
              "      background-color: #E2EBFA;\n",
              "      box-shadow: 0px 1px 2px rgba(60, 64, 67, 0.3), 0px 1px 3px 1px rgba(60, 64, 67, 0.15);\n",
              "      fill: #174EA6;\n",
              "    }\n",
              "\n",
              "    .colab-df-buttons div {\n",
              "      margin-bottom: 4px;\n",
              "    }\n",
              "\n",
              "    [theme=dark] .colab-df-convert {\n",
              "      background-color: #3B4455;\n",
              "      fill: #D2E3FC;\n",
              "    }\n",
              "\n",
              "    [theme=dark] .colab-df-convert:hover {\n",
              "      background-color: #434B5C;\n",
              "      box-shadow: 0px 1px 3px 1px rgba(0, 0, 0, 0.15);\n",
              "      filter: drop-shadow(0px 1px 2px rgba(0, 0, 0, 0.3));\n",
              "      fill: #FFFFFF;\n",
              "    }\n",
              "  </style>\n",
              "\n",
              "    <script>\n",
              "      const buttonEl =\n",
              "        document.querySelector('#df-8746224a-470a-4d28-b8c9-221aac3a257e button.colab-df-convert');\n",
              "      buttonEl.style.display =\n",
              "        google.colab.kernel.accessAllowed ? 'block' : 'none';\n",
              "\n",
              "      async function convertToInteractive(key) {\n",
              "        const element = document.querySelector('#df-8746224a-470a-4d28-b8c9-221aac3a257e');\n",
              "        const dataTable =\n",
              "          await google.colab.kernel.invokeFunction('convertToInteractive',\n",
              "                                                    [key], {});\n",
              "        if (!dataTable) return;\n",
              "\n",
              "        const docLinkHtml = 'Like what you see? Visit the ' +\n",
              "          '<a target=\"_blank\" href=https://colab.research.google.com/notebooks/data_table.ipynb>data table notebook</a>'\n",
              "          + ' to learn more about interactive tables.';\n",
              "        element.innerHTML = '';\n",
              "        dataTable['output_type'] = 'display_data';\n",
              "        await google.colab.output.renderOutput(dataTable, element);\n",
              "        const docLink = document.createElement('div');\n",
              "        docLink.innerHTML = docLinkHtml;\n",
              "        element.appendChild(docLink);\n",
              "      }\n",
              "    </script>\n",
              "  </div>\n",
              "\n",
              "\n",
              "<div id=\"df-325f37f8-8f08-4ac7-a8d3-3e438d453fc9\">\n",
              "  <button class=\"colab-df-quickchart\" onclick=\"quickchart('df-325f37f8-8f08-4ac7-a8d3-3e438d453fc9')\"\n",
              "            title=\"Suggest charts\"\n",
              "            style=\"display:none;\">\n",
              "\n",
              "<svg xmlns=\"http://www.w3.org/2000/svg\" height=\"24px\"viewBox=\"0 0 24 24\"\n",
              "     width=\"24px\">\n",
              "    <g>\n",
              "        <path d=\"M19 3H5c-1.1 0-2 .9-2 2v14c0 1.1.9 2 2 2h14c1.1 0 2-.9 2-2V5c0-1.1-.9-2-2-2zM9 17H7v-7h2v7zm4 0h-2V7h2v10zm4 0h-2v-4h2v4z\"/>\n",
              "    </g>\n",
              "</svg>\n",
              "  </button>\n",
              "\n",
              "<style>\n",
              "  .colab-df-quickchart {\n",
              "      --bg-color: #E8F0FE;\n",
              "      --fill-color: #1967D2;\n",
              "      --hover-bg-color: #E2EBFA;\n",
              "      --hover-fill-color: #174EA6;\n",
              "      --disabled-fill-color: #AAA;\n",
              "      --disabled-bg-color: #DDD;\n",
              "  }\n",
              "\n",
              "  [theme=dark] .colab-df-quickchart {\n",
              "      --bg-color: #3B4455;\n",
              "      --fill-color: #D2E3FC;\n",
              "      --hover-bg-color: #434B5C;\n",
              "      --hover-fill-color: #FFFFFF;\n",
              "      --disabled-bg-color: #3B4455;\n",
              "      --disabled-fill-color: #666;\n",
              "  }\n",
              "\n",
              "  .colab-df-quickchart {\n",
              "    background-color: var(--bg-color);\n",
              "    border: none;\n",
              "    border-radius: 50%;\n",
              "    cursor: pointer;\n",
              "    display: none;\n",
              "    fill: var(--fill-color);\n",
              "    height: 32px;\n",
              "    padding: 0;\n",
              "    width: 32px;\n",
              "  }\n",
              "\n",
              "  .colab-df-quickchart:hover {\n",
              "    background-color: var(--hover-bg-color);\n",
              "    box-shadow: 0 1px 2px rgba(60, 64, 67, 0.3), 0 1px 3px 1px rgba(60, 64, 67, 0.15);\n",
              "    fill: var(--button-hover-fill-color);\n",
              "  }\n",
              "\n",
              "  .colab-df-quickchart-complete:disabled,\n",
              "  .colab-df-quickchart-complete:disabled:hover {\n",
              "    background-color: var(--disabled-bg-color);\n",
              "    fill: var(--disabled-fill-color);\n",
              "    box-shadow: none;\n",
              "  }\n",
              "\n",
              "  .colab-df-spinner {\n",
              "    border: 2px solid var(--fill-color);\n",
              "    border-color: transparent;\n",
              "    border-bottom-color: var(--fill-color);\n",
              "    animation:\n",
              "      spin 1s steps(1) infinite;\n",
              "  }\n",
              "\n",
              "  @keyframes spin {\n",
              "    0% {\n",
              "      border-color: transparent;\n",
              "      border-bottom-color: var(--fill-color);\n",
              "      border-left-color: var(--fill-color);\n",
              "    }\n",
              "    20% {\n",
              "      border-color: transparent;\n",
              "      border-left-color: var(--fill-color);\n",
              "      border-top-color: var(--fill-color);\n",
              "    }\n",
              "    30% {\n",
              "      border-color: transparent;\n",
              "      border-left-color: var(--fill-color);\n",
              "      border-top-color: var(--fill-color);\n",
              "      border-right-color: var(--fill-color);\n",
              "    }\n",
              "    40% {\n",
              "      border-color: transparent;\n",
              "      border-right-color: var(--fill-color);\n",
              "      border-top-color: var(--fill-color);\n",
              "    }\n",
              "    60% {\n",
              "      border-color: transparent;\n",
              "      border-right-color: var(--fill-color);\n",
              "    }\n",
              "    80% {\n",
              "      border-color: transparent;\n",
              "      border-right-color: var(--fill-color);\n",
              "      border-bottom-color: var(--fill-color);\n",
              "    }\n",
              "    90% {\n",
              "      border-color: transparent;\n",
              "      border-bottom-color: var(--fill-color);\n",
              "    }\n",
              "  }\n",
              "</style>\n",
              "\n",
              "  <script>\n",
              "    async function quickchart(key) {\n",
              "      const quickchartButtonEl =\n",
              "        document.querySelector('#' + key + ' button');\n",
              "      quickchartButtonEl.disabled = true;  // To prevent multiple clicks.\n",
              "      quickchartButtonEl.classList.add('colab-df-spinner');\n",
              "      try {\n",
              "        const charts = await google.colab.kernel.invokeFunction(\n",
              "            'suggestCharts', [key], {});\n",
              "      } catch (error) {\n",
              "        console.error('Error during call to suggestCharts:', error);\n",
              "      }\n",
              "      quickchartButtonEl.classList.remove('colab-df-spinner');\n",
              "      quickchartButtonEl.classList.add('colab-df-quickchart-complete');\n",
              "    }\n",
              "    (() => {\n",
              "      let quickchartButtonEl =\n",
              "        document.querySelector('#df-325f37f8-8f08-4ac7-a8d3-3e438d453fc9 button');\n",
              "      quickchartButtonEl.style.display =\n",
              "        google.colab.kernel.accessAllowed ? 'block' : 'none';\n",
              "    })();\n",
              "  </script>\n",
              "</div>\n",
              "\n",
              "    </div>\n",
              "  </div>\n"
            ],
            "application/vnd.google.colaboratory.intrinsic+json": {
              "type": "dataframe",
              "variable_name": "dataset",
              "summary": "{\n  \"name\": \"dataset\",\n  \"rows\": 5572,\n  \"fields\": [\n    {\n      \"column\": \"Class\",\n      \"properties\": {\n        \"dtype\": \"category\",\n        \"num_unique_values\": 2,\n        \"samples\": [\n          \"spam\",\n          \"ham\"\n        ],\n        \"semantic_type\": \"\",\n        \"description\": \"\"\n      }\n    },\n    {\n      \"column\": \"Message\",\n      \"properties\": {\n        \"dtype\": \"string\",\n        \"num_unique_values\": 5169,\n        \"samples\": [\n          \"Did u download the fring app?\",\n          \"Pass dis to all ur contacts n see wat u get! Red;i'm in luv wid u. Blue;u put a smile on my face. Purple;u r realy hot. Pink;u r so swt. Orange;i thnk i lyk u. Green;i realy wana go out wid u. Yelow;i wnt u bck. Black;i'm jealous of u. Brown;i miss you Nw plz giv me one color\"\n        ],\n        \"semantic_type\": \"\",\n        \"description\": \"\"\n      }\n    }\n  ]\n}"
            }
          },
          "metadata": {},
          "execution_count": 6
        }
      ]
    },
    {
      "cell_type": "markdown",
      "source": [
        "Khi có được ngữ liệu, chúng ta cần thống kê để nắm thông tin sơ bộ về ngữ liệu. Một trong những thống kê quan trọng, là số lượng mẫu, hay data point của mỗi lớp."
      ],
      "metadata": {
        "id": "3wGm54YxO6fo"
      }
    },
    {
      "cell_type": "code",
      "source": [
        "\n",
        "cols= sns.color_palette(\"Blues\", n_colors=2)\n",
        "\n",
        "plt.figure(figsize=(10,6))\n",
        "fig = sns.countplot(data=dataset, x='Class', hue=\"Class\", palette= cols, legend=False)\n",
        "fig.set_title(\"Thống kê số mẫu theo lớp\", color=\"#000000\")\n",
        "fig.set_xlabel(\"Lớp\")\n",
        "fig.set_ylabel(\"Số mẫu\")"
      ],
      "metadata": {
        "colab": {
          "base_uri": "https://localhost:8080/",
          "height": 547
        },
        "id": "FVJs-YveJsI9",
        "outputId": "1d71bc20-5ac6-4768-a669-e2a34ef0b3e8"
      },
      "execution_count": 7,
      "outputs": [
        {
          "output_type": "execute_result",
          "data": {
            "text/plain": [
              "Text(0, 0.5, 'Số mẫu')"
            ]
          },
          "metadata": {},
          "execution_count": 7
        },
        {
          "output_type": "display_data",
          "data": {
            "text/plain": [
              "<Figure size 1000x600 with 1 Axes>"
            ],
            "image/png": "[encoded data removed]"
          },
          "metadata": {}
        }
      ]
    },
    {
      "cell_type": "markdown",
      "source": [
        "Tiếp theo, là tiền xử lý dữ liệu, ở đây là các SMS. Chúng ta sẽ thực hiện:\n",
        "\n",
        "- Loại bỏ các ký tự không phải bộ chữ cái.\n",
        "- Chuyển thành chữ thường\n",
        "- Loại bỏ khoảng trắng thừa.\n",
        "\n",
        "(Các bạn có thể tiền xử lý với những bước xử lý khác, phù hợp với bài toán)"
      ],
      "metadata": {
        "id": "KJ0-IJGBTy2W"
      }
    },
    {
      "cell_type": "code",
      "source": [
        "def Preprocess(Text):\n",
        "    sms = re.sub('[^a-zA-Z]', ' ', Text)\n",
        "    sms = sms.lower()\n",
        "    sms = sms.split()\n",
        "    sms = ' '.join(sms)\n",
        "    return sms\n",
        "\n",
        "dataset[\"PrepMessage\"] = dataset[\"Message\"].apply(Preprocess)\n",
        "#Lets have a look at a sample of texts after cleaning\n",
        "print(*dataset[\"PrepMessage\"][:5], sep = \"\\n\")"
      ],
      "metadata": {
        "colab": {
          "base_uri": "https://localhost:8080/"
        },
        "id": "DQVjtl-BMOpo",
        "outputId": "bbeb5481-4d76-47d3-f693-3dc02224acac"
      },
      "execution_count": 8,
      "outputs": [
        {
          "output_type": "stream",
          "name": "stdout",
          "text": [
            "go until jurong point crazy available only in bugis n great world la e buffet cine there got amore wat\n",
            "ok lar joking wif u oni\n",
            "free entry in a wkly comp to win fa cup final tkts st may text fa to to receive entry question std txt rate t c s apply over s\n",
            "u dun say so early hor u c already then say\n",
            "nah i don t think he goes to usf he lives around here though\n"
          ]
        }
      ]
    },
    {
      "cell_type": "markdown",
      "source": [
        "Sau đó, chúng ta sẽ thực hiện vector hóa các SMS của bộ ngữ liệu, thành một tập các vectors. Trong phần này, chúng ta dùng lớp TfidfVectorizer. Tuy nhiên, đến phần thực hành của các bạn, các bạn cần thực hiện thủ công theo ý tưởng của mình.\n",
        "\n",
        "Cùng với việc vector hóa nội dung SMS, chúng ta cũng mã hóa các giá trị lớp tương ứng với các SMS, thành những giá trị số với lớp LabelEncoder."
      ],
      "metadata": {
        "id": "0jTt8PfVUdGL"
      }
    },
    {
      "cell_type": "code",
      "source": [
        "corpus = list(dataset[\"PrepMessage\"])\n",
        "tfidf = TfidfVectorizer()\n",
        "vectors = tfidf.fit_transform(corpus).toarray()\n",
        "\n",
        "print(vectors.shape)\n",
        "label_encoder = LabelEncoder()\n",
        "dataset[\"Class\"] = label_encoder.fit_transform(dataset[\"Class\"])\n",
        "print(dataset[\"Class\"][:5])"
      ],
      "metadata": {
        "colab": {
          "base_uri": "https://localhost:8080/"
        },
        "id": "qSCQczQLOkkX",
        "outputId": "4810d789-4189-48a7-8d91-911964d7a9db"
      },
      "execution_count": 9,
      "outputs": [
        {
          "output_type": "stream",
          "name": "stdout",
          "text": [
            "(5572, 7682)\n",
            "0    0\n",
            "1    0\n",
            "2    1\n",
            "3    0\n",
            "4    0\n",
            "Name: Class, dtype: int64\n"
          ]
        }
      ]
    },
    {
      "cell_type": "markdown",
      "source": [
        "Chúng ta bắt đầu chia dữ liệu thành các tập Train và Test. Trong đó, kích thước tập Train bằng 80% kích thước tập mẫu, và kích thước tập Test bằng 20% kích thước tập mẫu. Tập Train gồm Trainvecs chứa các vector đầu vào và Trainclss chứa các nhãn tương ứng. Tập Test gồm Testvecs chứa các vector đầu vào và Testclss chứa các nhãn tương ứng."
      ],
      "metadata": {
        "id": "6Ufqv2v2VU2c"
      }
    },
    {
      "cell_type": "code",
      "source": [
        "classes = dataset[\"Class\"]\n",
        "\n",
        "Trainvecs, Testvecs, Trainclss, Testclss = train_test_split(vectors, classes, test_size=0.2, random_state=42)"
      ],
      "metadata": {
        "id": "c_czp01xOwrO"
      },
      "execution_count": 10,
      "outputs": []
    },
    {
      "cell_type": "markdown",
      "source": [
        "Tiếp theo, chúng ta thử nghiệm hiệu quả của bộ phân lớp Multinomial Naive Bayes, bằng cách sử dụng lớp MultinomialNB của thư viện Scikit-Learn.\n",
        "Chúng ta tính cross validate score cho f1, với k-fold là 10. Sau đó tính Precision, Recall, F1, Accuracy trên tập Train và Accuracy trên tập Test. Cuối cùng, trình bày confusion matrix."
      ],
      "metadata": {
        "id": "FTJm08nVWyut"
      }
    },
    {
      "cell_type": "code",
      "source": [
        "cls = MultinomialNB()\n",
        "cls.fit(Trainvecs, Trainclss)\n",
        "cv_score = cross_val_score(cls, Trainvecs, Trainclss, scoring=\"f1\", cv=10)\n",
        "print(cv_score.mean())\n",
        "pred_train = cls.predict(Trainvecs)\n",
        "pred_test = cls.predict(Testvecs)\n",
        "prec = metrics.precision_score(Testclss, pred_test)\n",
        "recal = metrics.recall_score(Testclss, pred_test)\n",
        "f1_s = metrics.f1_score(Testclss, pred_test)\n",
        "train_accuracy = cls.score(Trainvecs, Trainclss)\n",
        "test_accuracy = cls.score(Testvecs, Testclss)\n",
        "print(\"Precision: {}, Recall: {}, F1: {}, Train Accuracy: {}, Test Accuracy: {}\".format(prec, recal, f1_s, train_accuracy, test_accuracy))\n",
        "ConfusionMatrixDisplay.from_estimator(cls, Testvecs, Testclss, cmap=\"Blues\")"
      ],
      "metadata": {
        "colab": {
          "base_uri": "https://localhost:8080/",
          "height": 521
        },
        "id": "IcUz16SIRdFz",
        "outputId": "fd9e619f-9028-4c10-cd46-e9c66d3858b7"
      },
      "execution_count": 11,
      "outputs": [
        {
          "output_type": "stream",
          "name": "stdout",
          "text": [
            "0.803343768589805\n",
            "Precision: 0.9901960784313726, Recall: 0.6733333333333333, F1: 0.8015873015873016, Train Accuracy: 0.9683643706529056, Test Accuracy: 0.9551569506726457\n"
          ]
        },
        {
          "output_type": "execute_result",
          "data": {
            "text/plain": [
              "<sklearn.metrics._plot.confusion_matrix.ConfusionMatrixDisplay at 0x7a71f841ec50>"
            ]
          },
          "metadata": {},
          "execution_count": 11
        },
        {
          "output_type": "display_data",
          "data": {
            "text/plain": [
              "<Figure size 640x480 with 2 Axes>"
            ],
            "image/png": "[encoded data removed]"
          },
          "metadata": {}
        }
      ]
    },
    {
      "cell_type": "markdown",
      "source": [
        "Tiếp theo, chúng ta thử nghiệm hiệu quả của bộ phân lớp Bernoulli Naive Bayes, bằng cách sử dụng lớp Bernoulli NB của thư viện Scikit-Learn.\n",
        "Chúng ta cũng tính cross validate score cho f1, với k-fold là 10. Sau đó tính Precision, Recall, F1, Accuracy trên tập Train và Accuracy trên tập Test. Cuối cùng, trình bày confusion matrix."
      ],
      "metadata": {
        "id": "iMc8kLggZJOU"
      }
    },
    {
      "cell_type": "code",
      "source": [
        "cls = BernoulliNB()\n",
        "cls.fit(Trainvecs, Trainclss)\n",
        "cv_score = cross_val_score(cls, Trainvecs, Trainclss, scoring=\"f1\", cv=10)\n",
        "print(cv_score.mean())\n",
        "pred_train = cls.predict(Trainvecs)\n",
        "pred_test = cls.predict(Testvecs)\n",
        "prec = metrics.precision_score(Testclss, pred_test)\n",
        "recal = metrics.recall_score(Testclss, pred_test)\n",
        "f1_s = metrics.f1_score(Testclss, pred_test)\n",
        "train_accuracy = cls.score(Trainvecs, Trainclss)\n",
        "test_accuracy = cls.score(Testvecs, Testclss)\n",
        "print(\"Precision: {}, Recall: {}, F1: {}, Train Accuracy: {}, Test Accuracy: {}\".format(prec, recal, f1_s, train_accuracy, test_accuracy))\n",
        "ConfusionMatrixDisplay.from_estimator(cls, Testvecs, Testclss, cmap=\"Blues\")"
      ],
      "metadata": {
        "colab": {
          "base_uri": "https://localhost:8080/",
          "height": 521
        },
        "id": "V8A8D9VeV5kb",
        "outputId": "1e35c814-498a-4e5c-d461-20ae2a7fce60"
      },
      "execution_count": 12,
      "outputs": [
        {
          "output_type": "stream",
          "name": "stdout",
          "text": [
            "0.9112250574062809\n",
            "Precision: 0.9689922480620154, Recall: 0.8333333333333334, F1: 0.8960573476702509, Train Accuracy: 0.9867623962306484, Test Accuracy: 0.9739910313901345\n"
          ]
        },
        {
          "output_type": "execute_result",
          "data": {
            "text/plain": [
              "<sklearn.metrics._plot.confusion_matrix.ConfusionMatrixDisplay at 0x7a71f826af90>"
            ]
          },
          "metadata": {},
          "execution_count": 12
        },
        {
          "output_type": "display_data",
          "data": {
            "text/plain": [
              "<Figure size 640x480 with 2 Axes>"
            ],
            "image/png": "[encoded data removed]"
          },
          "metadata": {}
        }
      ]
    },
    {
      "cell_type": "markdown",
      "source": [
        "Tiếp theo, chúng ta thử nghiệm hiệu quả của bộ phân lớp Logistic Regression, bằng cách sử dụng lớp LogisticRegression của thư viện Scikit-Learn.\n",
        "Chúng ta cũng tính cross validate score cho f1, với k-fold là 10. Sau đó tính Precision, Recall, F1, Accuracy trên tập Train và Accuracy trên tập Test. Cuối cùng, trình bày confusion matrix."
      ],
      "metadata": {
        "id": "ZI7Fe5gsZT_J"
      }
    },
    {
      "cell_type": "code",
      "source": [
        "cls = LogisticRegression()\n",
        "cls.fit(Trainvecs, Trainclss)\n",
        "cv_score = cross_val_score(cls, Trainvecs, Trainclss, scoring=\"f1\", cv=10)\n",
        "print(cv_score.mean())\n",
        "pred_train = cls.predict(Trainvecs)\n",
        "pred_test = cls.predict(Testvecs)\n",
        "prec = metrics.precision_score(Testclss, pred_test)\n",
        "recal = metrics.recall_score(Testclss, pred_test)\n",
        "f1_s = metrics.f1_score(Testclss, pred_test)\n",
        "train_accuracy = cls.score(Trainvecs, Trainclss)\n",
        "test_accuracy = cls.score(Testvecs, Testclss)\n",
        "print(\"Precision: {}, Recall: {}, F1: {}, Train Accuracy: {}, Test Accuracy: {}\".format(prec, recal, f1_s, train_accuracy, test_accuracy))\n",
        "ConfusionMatrixDisplay.from_estimator(cls, Testvecs, Testclss, cmap=\"Blues\")"
      ],
      "metadata": {
        "colab": {
          "base_uri": "https://localhost:8080/",
          "height": 521
        },
        "id": "SudyjqkARuN_",
        "outputId": "07095fc4-02e5-41fc-9afc-56871654dd05"
      },
      "execution_count": 13,
      "outputs": [
        {
          "output_type": "stream",
          "name": "stdout",
          "text": [
            "0.8363898388026101\n",
            "Precision: 1.0, Recall: 0.7333333333333333, F1: 0.8461538461538461, Train Accuracy: 0.9764415526138658, Test Accuracy: 0.9641255605381166\n"
          ]
        },
        {
          "output_type": "execute_result",
          "data": {
            "text/plain": [
              "<sklearn.metrics._plot.confusion_matrix.ConfusionMatrixDisplay at 0x7a71f7dfaf50>"
            ]
          },
          "metadata": {},
          "execution_count": 13
        },
        {
          "output_type": "display_data",
          "data": {
            "text/plain": [
              "<Figure size 640x480 with 2 Axes>"
            ],
            "image/png": "[encoded data removed]"
          },
          "metadata": {}
        }
      ]
    },
    {
      "cell_type": "markdown",
      "source": [
        "**3) CÀI ĐẶT THỦ CÔNG**\n",
        "\n",
        "Phần này, các bạn sẽ tự huấn luyện các mô hình Multinomial Naive Bayes, Bernoulli Naive Bayes và Logistic Regression trên tập Train và đánh giá trên tập Test đã dùng ở trên.\n",
        "\n",
        "Đầu tiên, các bạn tham khảo đoạn chương trình nhỏ, huấn luyện mô hình Logistic Regression có đầu vào là một biến x và đầu ra là một biến y. Sau đó, các bạn có thể mở rộng để áp dụng cho bài toán SMS Spam Detection."
      ],
      "metadata": {
        "id": "vBnwVCa5ZsZq"
      }
    },
    {
      "cell_type": "code",
      "execution_count": 16,
      "metadata": {
        "colab": {
          "base_uri": "https://localhost:8080/"
        },
        "id": "5SeUR_2RgrBX",
        "outputId": "5e6ab4e6-992e-4e03-c96f-e0e87d0e76f7"
      },
      "outputs": [
        {
          "output_type": "stream",
          "name": "stdout",
          "text": [
            "[1.67509653] [0.02211244]\n",
            "[4.08029638] [0.08614365]\n"
          ]
        }
      ],
      "source": [
        "X = [-3, -2, -1, 1, 2, 3]\n",
        "Y = [0, 0, 0, 1, 1, 1]\n",
        "\n",
        "def Logistic(x):\n",
        "  return 1/(1+np.exp(-x))\n",
        "\n",
        "def Forward(x, w, b):\n",
        "  z = np.dot(w, x) + b\n",
        "  return Logistic(z)\n",
        "\n",
        "W = np.array([1])\n",
        "B = 1\n",
        "WW = np.array([1])\n",
        "BB = 1\n",
        "lr = 0.5\n",
        "l2 = 0.05\n",
        "epoch = 50\n",
        "for i in range(epoch):\n",
        "  for j in range(len(X)):\n",
        "    d = (Y[j] - Forward(X[j], W, B))\n",
        "    W = W + (X[j] * d - l2 * W) * lr\n",
        "    B = B + (d - l2*B) * lr\n",
        "\n",
        "    dd = (Y[j] - Forward(X[j], WW, BB))\n",
        "    WW = WW + (X[j] * dd) * lr\n",
        "    BB = BB + dd * lr\n",
        "print(W, B)\n",
        "print(WW, BB)"
      ]
    },
    {
      "cell_type": "code",
      "source": [
        "Xp = [x / 50 for x in range(-250, 250)]\n",
        "\n",
        "fig, (ax1, ax2) = plt.subplots(1, 2)\n",
        "fig.subplots_adjust(bottom=0, right=1.2, top=0.5)\n",
        "ax1.plot(Xp, [Forward(x, W, B) for x in Xp])\n",
        "ax1.set_title('With L2')\n",
        "ax1.set_xlabel('x')\n",
        "ax1.set_ylabel('y')\n",
        "ax1.grid(True)\n",
        "ax2.plot(Xp, [Forward(x, WW, BB) for x in Xp])\n",
        "ax2.set_title('Without L2')\n",
        "ax2.set_xlabel('x')\n",
        "ax2.set_ylabel('y')\n",
        "ax2.grid(True)"
      ],
      "metadata": {
        "colab": {
          "base_uri": "https://localhost:8080/",
          "height": 342
        },
        "id": "lAnZJ1ueVa4I",
        "outputId": "d105be72-0591-4ca2-fb64-a201f5a7964e"
      },
      "execution_count": 17,
      "outputs": [
        {
          "output_type": "display_data",
          "data": {
            "text/plain": [
              "<Figure size 640x480 with 2 Axes>"
            ],
            "image/png": "[encoded data removed]"
          },
          "metadata": {}
        }
      ]
    },
    {
      "cell_type": "markdown",
      "source": [
        "Tiếp theo, các bạn sẽ cài đặt các lớp hoặc các hàm cần thiết để huấn luyện các mô hình Multinomial Naive Bayes, Bernoulli Naive Bayes và Logistic Regression.\n",
        "\n",
        "Đầu tiên là\n",
        "\n",
        "**Multinomial Naive Bayes** và kết quả thử nghiệm để so sánh với mô hình dùng thư viện."
      ],
      "metadata": {
        "id": "Xbf7-4YhL9Hv"
      }
    },
    {
      "cell_type": "code",
      "source": [],
      "metadata": {
        "id": "VAGF1fCUMjJN"
      },
      "execution_count": null,
      "outputs": []
    },
    {
      "cell_type": "markdown",
      "source": [
        "Tiếp theo là\n",
        "\n",
        "**Bernoulli Naive Bayes** và kết quả thử nghiệm để so sánh với mô hình dùng thư viện."
      ],
      "metadata": {
        "id": "cEUMN6ssMjwm"
      }
    },
    {
      "cell_type": "code",
      "source": [],
      "metadata": {
        "id": "99CFOB09MpKs"
      },
      "execution_count": null,
      "outputs": []
    },
    {
      "cell_type": "markdown",
      "source": [
        "Cuối cùng là\n",
        "\n",
        "**Logistic Regression** và kết quả thử nghiệm để so sánh với mô hình dùng thư viện."
      ],
      "metadata": {
        "id": "M7Hs93r2Mp4f"
      }
    },
    {
      "cell_type": "code",
      "source": [],
      "metadata": {
        "id": "q2DW7WwkMvUD"
      },
      "execution_count": null,
      "outputs": []
    }
  ]
}
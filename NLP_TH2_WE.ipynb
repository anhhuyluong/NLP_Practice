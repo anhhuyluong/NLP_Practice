{
  "cells": [
    {
      "cell_type": "markdown",
      "metadata": {
        "id": "jkD3P49YtlG_"
      },
      "source": [
        "**Nội dung buổi thực hành**:\n",
        "\n",
        "\n",
        "\n",
        "1.   Thử nghiệm Word Embedding (WE) với thư viện gensim.\n",
        "2.   Dùng WE để phân lớp văn bản với Logistic Regression.\n",
        "\n"
      ]
    },
    {
      "cell_type": "markdown",
      "metadata": {
        "id": "6AI_2E6KuGME"
      },
      "source": [
        "**1) Thử nghiệm Word Embedding với thư viện gensim**\n",
        "\n",
        "Trước tiên, chúng ta cần upgrade thư viện gensim. Có một vấn đề là, lần đầu tiên chạy trên một máy ảo mới được khởi động của Google Colab, gensim gặp lỗi. Chúng ta cần restart máy ảo ngay sau khi upgrade gensim để làm mất lỗi này.  "
      ]
    },
    {
      "cell_type": "code",
      "execution_count": 1,
      "metadata": {
        "colab": {
          "base_uri": "https://localhost:8080/"
        },
        "id": "C79ZVrwhVder",
        "outputId": "2b56b778-2f64-43d4-c8d3-90b19fb737ed"
      },
      "outputs": [
        {
          "output_type": "stream",
          "name": "stdout",
          "text": [
            "Requirement already satisfied: gensim in /usr/local/lib/python3.11/dist-packages (4.3.3)\n",
            "Requirement already satisfied: numpy<2.0,>=1.18.5 in /usr/local/lib/python3.11/dist-packages (from gensim) (1.26.4)\n",
            "Requirement already satisfied: scipy<1.14.0,>=1.7.0 in /usr/local/lib/python3.11/dist-packages (from gensim) (1.13.1)\n",
            "Requirement already satisfied: smart-open>=1.8.1 in /usr/local/lib/python3.11/dist-packages (from gensim) (7.1.0)\n",
            "Requirement already satisfied: wrapt in /usr/local/lib/python3.11/dist-packages (from smart-open>=1.8.1->gensim) (1.17.2)\n",
            "Requirement already satisfied: kagglehub in /usr/local/lib/python3.11/dist-packages (0.3.11)\n",
            "Requirement already satisfied: packaging in /usr/local/lib/python3.11/dist-packages (from kagglehub) (24.2)\n",
            "Requirement already satisfied: pyyaml in /usr/local/lib/python3.11/dist-packages (from kagglehub) (6.0.2)\n",
            "Requirement already satisfied: requests in /usr/local/lib/python3.11/dist-packages (from kagglehub) (2.32.3)\n",
            "Requirement already satisfied: tqdm in /usr/local/lib/python3.11/dist-packages (from kagglehub) (4.67.1)\n",
            "Requirement already satisfied: charset-normalizer<4,>=2 in /usr/local/lib/python3.11/dist-packages (from requests->kagglehub) (3.4.1)\n",
            "Requirement already satisfied: idna<4,>=2.5 in /usr/local/lib/python3.11/dist-packages (from requests->kagglehub) (3.10)\n",
            "Requirement already satisfied: urllib3<3,>=1.21.1 in /usr/local/lib/python3.11/dist-packages (from requests->kagglehub) (2.3.0)\n",
            "Requirement already satisfied: certifi>=2017.4.17 in /usr/local/lib/python3.11/dist-packages (from requests->kagglehub) (2025.1.31)\n",
            "Requirement already satisfied: scikit-learn in /usr/local/lib/python3.11/dist-packages (1.6.1)\n",
            "Requirement already satisfied: numpy>=1.19.5 in /usr/local/lib/python3.11/dist-packages (from scikit-learn) (1.26.4)\n",
            "Requirement already satisfied: scipy>=1.6.0 in /usr/local/lib/python3.11/dist-packages (from scikit-learn) (1.13.1)\n",
            "Requirement already satisfied: joblib>=1.2.0 in /usr/local/lib/python3.11/dist-packages (from scikit-learn) (1.4.2)\n",
            "Requirement already satisfied: threadpoolctl>=3.1.0 in /usr/local/lib/python3.11/dist-packages (from scikit-learn) (3.6.0)\n"
          ]
        }
      ],
      "source": [
        "!pip install --upgrade gensim\n",
        "!pip install --upgrade kagglehub\n",
        "!pip install --upgrade scikit-learn"
      ]
    },
    {
      "cell_type": "markdown",
      "metadata": {
        "id": "qCOzDH5evipG"
      },
      "source": [
        "Chúng ta cần chọn một bộ WE để thử nghiệm. Có nhiều bộ WE đã được huấn luyện sẵn, chúng ta liệt kê bằng đoạn chương trình bên dưới. Sau đó, chúng ta sẽ download để sử dụng. Trong bài này, chúng ta download và sử dụng bộ \"word2vec-google-news-300\""
      ]
    },
    {
      "cell_type": "code",
      "execution_count": 2,
      "metadata": {
        "colab": {
          "base_uri": "https://localhost:8080/"
        },
        "id": "L2IKIgWXUvxl",
        "outputId": "427c53fc-8592-41e9-d8ac-ee45e29edd20"
      },
      "outputs": [
        {
          "output_type": "stream",
          "name": "stdout",
          "text": [
            "fasttext-wiki-news-subwords-300\n",
            "conceptnet-numberbatch-17-06-300\n",
            "word2vec-ruscorpora-300\n",
            "word2vec-google-news-300\n",
            "glove-wiki-gigaword-50\n",
            "glove-wiki-gigaword-100\n",
            "glove-wiki-gigaword-200\n",
            "glove-wiki-gigaword-300\n",
            "glove-twitter-25\n",
            "glove-twitter-50\n",
            "glove-twitter-100\n",
            "glove-twitter-200\n",
            "__testing_word2vec-matrix-synopsis\n",
            "[==================================================] 100.0% 1662.8/1662.8MB downloaded\n"
          ]
        }
      ],
      "source": [
        "import gensim\n",
        "import gensim.downloader\n",
        "\n",
        "for weStr in gensim.downloader.info()['models'].keys():\n",
        "  print(weStr)\n",
        "we = gensim.downloader.load('word2vec-google-news-300')"
      ]
    },
    {
      "cell_type": "markdown",
      "metadata": {
        "id": "A-5wZiqnwkWT"
      },
      "source": [
        "Chúng ta sẽ thực hiện ví dụ lập luận loại suy với mẫu King - man + woman cho các bộ:\n",
        "\n",
        "King, man, woman, Queen.\n",
        "\n",
        "Paris, France, Britain, London.\n",
        "\n",
        "Paris, France, Vietnam, Hanoi.\n",
        "\n",
        "Queen, woman, man, King."
      ]
    },
    {
      "cell_type": "code",
      "execution_count": 3,
      "metadata": {
        "colab": {
          "base_uri": "https://localhost:8080/"
        },
        "id": "DWVdYHscVOOp",
        "outputId": "7d10a9e2-c013-4917-d610-ddf4e05d99e2"
      },
      "outputs": [
        {
          "output_type": "stream",
          "name": "stdout",
          "text": [
            "[('Queen', 0.5515626668930054)]\n",
            "[('London', 0.7541897892951965)]\n",
            "[('Saigon', 0.6242673993110657)]\n",
            "[('King', 0.5451929569244385)]\n"
          ]
        }
      ],
      "source": [
        "r = we.most_similar([\"King\", \"woman\"], [\"man\"], topn=1)\n",
        "print(r)\n",
        "\n",
        "r = we.most_similar([\"Paris\", \"Britain\"], [\"France\"], topn=1)\n",
        "print(r)\n",
        "\n",
        "r = we.most_similar([\"Paris\", \"Vietnam\"], [\"France\"], topn=1)\n",
        "print(r)\n",
        "\n",
        "r = we.most_similar([\"Queen\", \"man\"], [\"woman\"], topn=1)\n",
        "print(r)"
      ]
    },
    {
      "cell_type": "markdown",
      "metadata": {
        "id": "h5N2UuwOyAQF"
      },
      "source": [
        "Tiếp theo, chúng ta sẽ dùng WE để tìm các từ đồng nghĩa hoặc gần nghĩa với một từ cho trước."
      ]
    },
    {
      "cell_type": "code",
      "execution_count": 4,
      "metadata": {
        "colab": {
          "base_uri": "https://localhost:8080/"
        },
        "id": "s7yzXr76x_LM",
        "outputId": "62449e26-a1a4-481a-e3e8-4ca11fea5b08"
      },
      "outputs": [
        {
          "output_type": "stream",
          "name": "stdout",
          "text": [
            "5 từ gần nghĩa với từ batman:\n",
            "('nolan', 0.574455976486206)\n",
            "('Batman', 0.5551455020904541)\n",
            "('spidey', 0.5511770844459534)\n",
            "('spiderman', 0.5303406715393066)\n",
            "('ponting', 0.5213491916656494)\n",
            "5 từ gần nghĩa với từ sword:\n",
            "('swords', 0.7661579847335815)\n",
            "('broadsword', 0.6593723893165588)\n",
            "('sandal_flick', 0.6263648271560669)\n",
            "('katana', 0.6189092993736267)\n",
            "('scimitar', 0.6022261381149292)\n"
          ]
        }
      ],
      "source": [
        "\n",
        "print(\"5 từ gần nghĩa với từ batman:\")\n",
        "words = we.most_similar(\"batman\", topn=5)\n",
        "for w in words:\n",
        "  print(w)\n",
        "\n",
        "\n",
        "print(\"5 từ gần nghĩa với từ sword:\")\n",
        "words = we.most_similar(\"sword\", topn=5)\n",
        "for w in words:\n",
        "  print(w)\n",
        "\n"
      ]
    },
    {
      "cell_type": "markdown",
      "metadata": {
        "id": "ZCZALGIPzRHt"
      },
      "source": [
        "Tiếp theo, chúng ta sẽ tính cosine giữa cặp vector từ"
      ]
    },
    {
      "cell_type": "code",
      "execution_count": 5,
      "metadata": {
        "colab": {
          "base_uri": "https://localhost:8080/"
        },
        "id": "D3MAV2pCzEpA",
        "outputId": "edefc3b5-1335-491e-91a0-f502078a444c"
      },
      "outputs": [
        {
          "output_type": "stream",
          "name": "stdout",
          "text": [
            "Độ tương đồng cosine giữa different và difference là  0.3088984\n",
            "Độ tương đồng cosine giữa different và similar là  0.56392884\n"
          ]
        }
      ],
      "source": [
        "r = we.similarity(\"different\", \"difference\")\n",
        "print(\"Độ tương đồng cosine giữa different và difference là \", r)\n",
        "\n",
        "r = we.similarity(\"different\", \"similar\")\n",
        "print(\"Độ tương đồng cosine giữa different và similar là \", r)\n"
      ]
    },
    {
      "cell_type": "markdown",
      "metadata": {
        "id": "sU_ZdmqHz5DI"
      },
      "source": [
        "Tiếp theo, chúng ta sẽ huấn luyện một bộ Word Embedding cho từ đơn tiếng Việt. Chúng ta sẽ dùng bộ ngữ liệu tiếng Việt gồm 300K câu thu thập trên Web."
      ]
    },
    {
      "cell_type": "code",
      "execution_count": 6,
      "metadata": {
        "colab": {
          "base_uri": "https://localhost:8080/"
        },
        "id": "ac-4ugtT03mp",
        "outputId": "89eded4d-24c3-457f-f83d-f8a249d97ec6"
      },
      "outputs": [
        {
          "output_type": "stream",
          "name": "stdout",
          "text": [
            "/content\n",
            "--2025-04-17 14:27:39--  https://downloads.wortschatz-leipzig.de/corpora/vie-vn_web_2015_300K.tar.gz\n",
            "Resolving downloads.wortschatz-leipzig.de (downloads.wortschatz-leipzig.de)... 139.18.2.68\n",
            "Connecting to downloads.wortschatz-leipzig.de (downloads.wortschatz-leipzig.de)|139.18.2.68|:443... connected.\n",
            "HTTP request sent, awaiting response... 200 OK\n",
            "Length: 73946023 (71M) [application/x-gzip]\n",
            "Saving to: ‘vie-vn_web_2015_300K.tar.gz’\n",
            "\n",
            "vie-vn_web_2015_300 100%[===================>]  70.52M  18.3MB/s    in 5.1s    \n",
            "\n",
            "2025-04-17 14:27:45 (13.8 MB/s) - ‘vie-vn_web_2015_300K.tar.gz’ saved [73946023/73946023]\n",
            "\n",
            "vie-vn_web_2015_300K/\n",
            "vie-vn_web_2015_300K/vie-vn_web_2015_300K-co_n.txt\n",
            "vie-vn_web_2015_300K/vie-vn_web_2015_300K-co_s.txt\n",
            "vie-vn_web_2015_300K/vie-vn_web_2015_300K-inv_so.txt\n",
            "vie-vn_web_2015_300K/vie-vn_web_2015_300K-import.sql\n",
            "vie-vn_web_2015_300K/vie-vn_web_2015_300K-sources.txt\n",
            "vie-vn_web_2015_300K/vie-vn_web_2015_300K-inv_w.txt\n",
            "vie-vn_web_2015_300K/vie-vn_web_2015_300K-words.txt\n",
            "vie-vn_web_2015_300K/vie-vn_web_2015_300K-sentences.txt\n"
          ]
        }
      ],
      "source": [
        "%cd /content\n",
        "!mkdir /content/vie\n",
        "!wget https://downloads.wortschatz-leipzig.de/corpora/vie-vn_web_2015_300K.tar.gz\n",
        "!tar -xvf vie-vn_web_2015_300K.tar.gz -C /content/vie"
      ]
    },
    {
      "cell_type": "markdown",
      "source": [
        "Sau khi có được 300K câu tiếng Việt, chúng ta sẽ tiền xử lý, tách mỗi câu thành từng tiếng, sau đó gom tất cả 300K câu thành một danh sách data để huấn luyện WE."
      ],
      "metadata": {
        "id": "bBAlwH5MXda9"
      }
    },
    {
      "cell_type": "code",
      "execution_count": 7,
      "metadata": {
        "id": "nfBrwO-zVWJn"
      },
      "outputs": [],
      "source": [
        "import regex as re\n",
        "from gensim.models import Word2Vec\n",
        "from matplotlib import pyplot\n",
        "\n",
        "def Preprocess(Text):\n",
        "    r = re.sub('[0-9:\\\\?\\\\.,;!“”\\\\\\\"\\\\\\']', ' ', Text)\n",
        "    r = r.lower()\n",
        "    r = r.split()\n",
        "    return r\n",
        "\n",
        "f = open(\"./vie/vie-vn_web_2015_300K/vie-vn_web_2015_300K-sentences.txt\", encoding=\"utf-8\")\n",
        "data = []\n",
        "for s in f:\n",
        "  data.append(Preprocess(s))"
      ]
    },
    {
      "cell_type": "markdown",
      "source": [
        "Chúng ta dùng lớp Word2Vec để huấn luyện WE trên bộ ngữ liệu data."
      ],
      "metadata": {
        "id": "zA5wPs97XzTZ"
      }
    },
    {
      "cell_type": "code",
      "source": [
        "WE = Word2Vec(sentences = data).wv"
      ],
      "metadata": {
        "id": "0HeSJgumSXwF"
      },
      "execution_count": 8,
      "outputs": []
    },
    {
      "cell_type": "markdown",
      "source": [
        "Sau đó thử nghiệm với các vector từ"
      ],
      "metadata": {
        "id": "vpC80kjVX9DE"
      }
    },
    {
      "cell_type": "code",
      "source": [
        "print(\"Vector của từ đơn <trường>:\")\n",
        "print(WE[\"trường\"])\n",
        "print()\n",
        "\n",
        "print(\"10 từ gần nghĩa với từ <yêu> nhất\")\n",
        "words = WE.most_similar(\"thích\", topn=10)\n",
        "for word in words:\n",
        "  print(word)\n",
        "print()\n"
      ],
      "metadata": {
        "colab": {
          "base_uri": "https://localhost:8080/"
        },
        "id": "_A0U35FMScZI",
        "outputId": "ab043267-fd46-4bff-e776-1f45e69dea2c"
      },
      "execution_count": 9,
      "outputs": [
        {
          "output_type": "stream",
          "name": "stdout",
          "text": [
            "Vector của từ đơn <trường>:\n",
            "[ 4.6730905  -1.446545    1.3536819   0.19828294  2.0671608  -1.114129\n",
            " -1.476263   -3.9874005   0.88055545  0.07655968 -2.7895734   1.9200008\n",
            " -0.16795462 -0.4430781   1.8047292   5.140444    1.2041789  -3.5202994\n",
            "  5.0729213   0.48898602 -3.703017    2.5682373  -3.691038    1.7041626\n",
            "  0.20937544  0.8424584  -0.1692456   2.1242092   1.8693335  -1.2536153\n",
            " -0.44578552  2.3484652  -3.2540696  -2.2730732  -0.00676968 -1.6157706\n",
            " -3.342572    1.5374018   0.8106879  -0.27089578  0.3942072   0.2656726\n",
            " -1.1579595  -4.5335813   1.7791542   4.2990165   2.9030094  -1.6572683\n",
            " -1.0624048  -0.24096064 -4.7530622  -1.6761767   0.14422496 -2.8186085\n",
            "  1.3755071  -1.3980951  -2.3471305   0.52418405  3.1365216  -0.07664958\n",
            "  0.05261683 -0.4459488  -2.693664    1.3333765  -4.004318   -0.6207461\n",
            " -3.508259   -0.07939529  5.93059    -3.8226638   0.49692723  2.970658\n",
            "  0.54951924  1.6649559   1.0853862  -0.9579037  -0.37288547 -2.699175\n",
            "  0.19707839 -0.06848767  0.76273406  0.10668764  1.8102614   0.87063676\n",
            " -2.4894843  -2.1543474   0.87178445  1.7683017  -0.74376696  0.39006174\n",
            " -1.911358   -0.268347   -1.4488019  -2.073394    1.3241099   0.22850128\n",
            "  0.39076895  2.804151   -0.40106213 -3.7911785 ]\n",
            "\n",
            "10 từ gần nghĩa với từ <yêu> nhất\n",
            "('phù', 0.6418131589889526)\n",
            "('chuộng', 0.5807088613510132)\n",
            "('thước', 0.5424928665161133)\n",
            "('cỡ', 0.47405341267585754)\n",
            "('dế', 0.45710840821266174)\n",
            "('mến', 0.44823014736175537)\n",
            "('hỗn', 0.43773314356803894)\n",
            "('kỵ', 0.3876171410083771)\n",
            "('(trường', 0.38583558797836304)\n",
            "('cầu', 0.38013556599617004)\n",
            "\n"
          ]
        }
      ]
    },
    {
      "cell_type": "markdown",
      "source": [
        "**2) Dùng WE để phân lớp văn bản với Logistic Regression.**\n",
        "\n",
        "Chúng ta sẽ dùng ngữ liệu spam detection tiếng Anh trong bài thực hành 1."
      ],
      "metadata": {
        "id": "MihRIb2lYCfy"
      }
    },
    {
      "cell_type": "code",
      "source": [
        "import kagglehub\n",
        "path = kagglehub.dataset_download(\"uciml/sms-spam-collection-dataset\")\n",
        "print(path)\n",
        "%cp /kaggle/input/sms-spam-collection-dataset/spam.csv /content\n",
        "\n"
      ],
      "metadata": {
        "colab": {
          "base_uri": "https://localhost:8080/"
        },
        "id": "rfY4Ds8eY4G4",
        "outputId": "ba7da3fb-bfff-4bd5-cf00-6eec8908ab86"
      },
      "execution_count": 10,
      "outputs": [
        {
          "output_type": "stream",
          "name": "stdout",
          "text": [
            "/kaggle/input/sms-spam-collection-dataset\n"
          ]
        }
      ]
    },
    {
      "cell_type": "markdown",
      "source": [
        "Tiền xử lý dữ liệu"
      ],
      "metadata": {
        "id": "YaoRPSs5b9ok"
      }
    },
    {
      "cell_type": "code",
      "source": [
        "import pandas as pd\n",
        "import numpy as np\n",
        "from sklearn.preprocessing import LabelEncoder\n",
        "from sklearn.model_selection import train_test_split, cross_val_score\n",
        "\n",
        "from sklearn.linear_model import LogisticRegression\n",
        "from sklearn.metrics import precision_score, recall_score, classification_report, accuracy_score, f1_score, ConfusionMatrixDisplay\n",
        "from sklearn import metrics\n",
        "\n",
        "import seaborn as sns #Charts\n",
        "\n",
        "dataset = pd.read_csv(\"spam.csv\", encoding=\"windows-1252\")\n",
        "dataset.info()\n",
        "dataset = dataset.drop(dataset[[\"Unnamed: 2\", \"Unnamed: 3\", \"Unnamed: 4\"]], axis=1)\n",
        "dataset.rename(columns = {\"v1\":\"Class\", \"v2\":\"Message\"}, inplace = True)\n"
      ],
      "metadata": {
        "colab": {
          "base_uri": "https://localhost:8080/"
        },
        "id": "d4S06ATbYSFh",
        "outputId": "76405d77-7d7c-4af4-f9ff-70a21b5378b2"
      },
      "execution_count": 11,
      "outputs": [
        {
          "output_type": "stream",
          "name": "stdout",
          "text": [
            "<class 'pandas.core.frame.DataFrame'>\n",
            "RangeIndex: 5572 entries, 0 to 5571\n",
            "Data columns (total 5 columns):\n",
            " #   Column      Non-Null Count  Dtype \n",
            "---  ------      --------------  ----- \n",
            " 0   v1          5572 non-null   object\n",
            " 1   v2          5572 non-null   object\n",
            " 2   Unnamed: 2  50 non-null     object\n",
            " 3   Unnamed: 3  12 non-null     object\n",
            " 4   Unnamed: 4  6 non-null      object\n",
            "dtypes: object(5)\n",
            "memory usage: 217.8+ KB\n"
          ]
        }
      ]
    },
    {
      "cell_type": "markdown",
      "source": [
        "Vector hóa các dòng tin nhắn và đặt số hiệu cho phân loại tin nhắn."
      ],
      "metadata": {
        "id": "IPruBE66cBQe"
      }
    },
    {
      "cell_type": "code",
      "source": [
        "label_encoder = LabelEncoder()\n",
        "classes = label_encoder.fit_transform(dataset[\"Class\"])\n",
        "messages = list(dataset[\"Message\"])\n",
        "vectors = []\n",
        "\n",
        "for i in range(len(messages)):\n",
        "  x = np.zeros(300)\n",
        "  for w in messages[i].split():\n",
        "    if we.has_index_for(w):\n",
        "      np.add(x, we[w], x)\n",
        "  vectors.append(x)"
      ],
      "metadata": {
        "id": "lIjVQeUUbJN1"
      },
      "execution_count": 12,
      "outputs": []
    },
    {
      "cell_type": "markdown",
      "source": [
        "Phân chia dữ liệu Train và Test"
      ],
      "metadata": {
        "id": "Rc0r48KigE4L"
      }
    },
    {
      "cell_type": "code",
      "source": [
        "Trainvecs, Testvecs, Trainclss, Testclss = train_test_split(vectors, classes, test_size=0.2, random_state=28)"
      ],
      "metadata": {
        "id": "Vej2SxAafwKe"
      },
      "execution_count": 13,
      "outputs": []
    },
    {
      "cell_type": "markdown",
      "source": [
        "Dùng mô hình Logistic Regression để huấn luyện và đánh giá. So sánh kết quả khi sử dụng TfidfVectorizer."
      ],
      "metadata": {
        "id": "MWWJ9TNHgjb5"
      }
    },
    {
      "cell_type": "code",
      "source": [
        "cls = LogisticRegression()\n",
        "cls.fit(Trainvecs, Trainclss)\n",
        "cv_score = cross_val_score(cls, Trainvecs, Trainclss, scoring=\"f1\", cv=10)\n",
        "print(cv_score.mean())\n",
        "pred_train = cls.predict(Trainvecs)\n",
        "pred_test = cls.predict(Testvecs)\n",
        "prec = metrics.precision_score(Testclss, pred_test)\n",
        "recal = metrics.recall_score(Testclss, pred_test)\n",
        "f1_s = metrics.f1_score(Testclss, pred_test)\n",
        "train_accuracy = cls.score(Trainvecs, Trainclss)\n",
        "test_accuracy = cls.score(Testvecs, Testclss)\n",
        "print(\"Precision: {}, Recall: {}, F1: {}, Train Accuracy: {}, Test Accuracy: {}\".format(prec, recal, f1_s, train_accuracy, test_accuracy))\n",
        "ConfusionMatrixDisplay.from_estimator(cls, Testvecs, Testclss, cmap=\"Blues\")"
      ],
      "metadata": {
        "colab": {
          "base_uri": "https://localhost:8080/",
          "height": 523
        },
        "id": "6NdowkZfgqnE",
        "outputId": "ea5a3f58-b8a6-422a-b229-0976a221cea8"
      },
      "execution_count": 14,
      "outputs": [
        {
          "output_type": "stream",
          "name": "stdout",
          "text": [
            "0.8992691812980546\n",
            "Precision: 0.9024390243902439, Recall: 0.9426751592356688, F1: 0.9221183800623053, Train Accuracy: 0.9928202827013687, Test Accuracy: 0.9775784753363229\n"
          ]
        },
        {
          "output_type": "execute_result",
          "data": {
            "text/plain": [
              "<sklearn.metrics._plot.confusion_matrix.ConfusionMatrixDisplay at 0x7c5f39e9f690>"
            ]
          },
          "metadata": {},
          "execution_count": 14
        },
        {
          "output_type": "display_data",
          "data": {
            "text/plain": [
              "<Figure size 640x480 with 2 Axes>"
            ],
            "image/png": "[encoded data removed]"
          },
          "metadata": {}
        }
      ]
    },
    {
      "cell_type": "markdown",
      "source": [
        "**Phần thực hành:**\n",
        "\n",
        "\n",
        "1.   Thay đổi các tham số khi huấn luyện WordVector cho tiếng Việt và tiếng Anh.\n",
        "2.   Sử dụng mỗi phiên bản WordVector cho các tác vụ: Cặp từ đồng nghĩa, Vector hóa văn bản và nhận xét.\n",
        "\n",
        "Lưu ý: Ngữ liệu do các bạn sưu tầm."
      ],
      "metadata": {
        "id": "a5u9FN1m-Vrl"
      }
    },
    {
      "cell_type": "markdown",
      "source": [
        "Dữ liệu cặp từ đồng nghĩa như sau"
      ],
      "metadata": {
        "id": "4viZaCZROLN-"
      }
    },
    {
      "cell_type": "code",
      "source": [
        "f = open(\"explicitsim353.csv\", \"wt\")\n",
        "filecontent = \"\"\"cs_word_1,cs_word_2,average,\n",
        "glass,magician,1.575,\n",
        "glass,metal,3.0,\n",
        "government,crisis,2.825,\n",
        "governor,interview,1.8,\n",
        "governor,office,4.25,\n",
        "grocery,money,1.97435897436,\n",
        "holy,sex,1.225,\n",
        "hospital,infrastructure,4.02564102564,\n",
        "hotel,reservation,3.79487179487,\n",
        "hundred,percent,3.52631578947,\n",
        "image,surface,2.4358974359,\n",
        "impartiality,interest,2.5,\n",
        "investigation,effort,3.125,\n",
        "investor,earning,3.7,\n",
        "jaguar,car,4.975,\n",
        "jaguar,cat,5.975,\n",
        "journal,association,2.1,\n",
        "journey,car,3.175,\n",
        "journey,voyage,7.625,\n",
        "king,cabbage,1.26315789474,\n",
        "king,queen,5.45,\n",
        "king,rook,3.325,\n",
        "lad,brother,3.95,\n",
        "lad,wizard,2.66666666667,\n",
        "law,lawyer,5.42424242424,\n",
        "lawyer,evidence,3.25641025641,\n",
        "liability,insurance,4.79487179487,\n",
        "life,death,4.34210526316,\n",
        "life,lesson,3.23076923077,\n",
        "life,term,2.75,\n",
        "line,insurance,1.59459459459,\n",
        "liquid,water,6.10810810811,\n",
        "listing,category,4.40540540541,\n",
        "listing,proximity,2.225,\n",
        "lobster,food,5.65,\n",
        "lobster,wine,2.15384615385,\n",
        "love,sex,5.575,\n",
        "lover,quarrel,2.41176470588,\n",
        "luxury,car,3.46153846154,\n",
        "magician,wizard,6.775,\n",
        "man,governor,4.175,\n",
        "man,woman,5.3,\n",
        "marathon,sprint,5.25,\n",
        "media,gain,1.65,\n",
        "media,radio,5.41025641026,\n",
        "media,trading,1.71794871795,\n",
        "midday,noon,8.02564102564,\n",
        "mile,kilometer,6.325,\n",
        "minister,party,2.225,\n",
        "ministry,culture,2.28947368421,\n",
        "minority,peace,1.725,\n",
        "money,bank,5.15,\n",
        "money,cash,8.12820512821,\n",
        "money,cash,8.51282051282,\n",
        "money,currency,8.0,\n",
        "money,deposit,4.575,\n",
        "money,dollar,7.4,\n",
        "money,laundering,3.2,\n",
        "money,operation,1.925,\n",
        "money,possession,3.71794871795,\n",
        "money,property,4.05263157895,\n",
        "money,wealth,6.26315789474,\n",
        "money,withdrawal,3.62162162162,\n",
        "monk,oracle,2.72972972973,\n",
        "monk,slave,2.325,\n",
        "month,hotel,1.33333333333,\n",
        "morality,importance,2.71052631579,\n",
        "morality,marriage,2.7,\n",
        "movie,critic,3.25,\n",
        "movie,popcorn,3.625,\n",
        "movie,star,3.425,\n",
        "movie,theater,5.51351351351,\n",
        "murder,manslaughter,6.79487179487,\n",
        "museum,theater,4.075,\n",
        "music,project,2.8,\n",
        "nature,environment,7.3,\n",
        "nature,man,2.9,\n",
        "network,hardware,3.82051282051,\n",
        "news,report,5.82051282051,\n",
        "noon,string,1.25641025641,\n",
        "observation,architecture,1.75,\n",
        "oil,stock,2.87179487179,\n",
        "opera,industry,1.6,\n",
        "opera,performance,4.75,\n",
        "peace,atmosphere,2.33333333333,\n",
        "peace,insurance,1.6,\n",
        "peace,plan,2.05,\n",
        "phone,equipment,3.87179487179,\n",
        "physics,chemistry,5.25,\n",
        "physics,proton,4.5,\n",
        "plane,car,3.97435897436,\n",
        "planet,astronomer,4.12820512821,\n",
        "planet,constellation,4.30769230769,\n",
        "planet,galaxy,5.6,\n",
        "planet,moon,5.825,\n",
        "planet,people,2.45,\n",
        "planet,space,5.05,\n",
        "planet,star,5.025,\n",
        "planet,sun,5.425,\n",
        "population,development,2.81578947368,\n",
        "possibility,girl,1.425,\n",
        "practice,institution,2.625,\n",
        "precedent,antecedent,4.6,\n",
        "precedent,cognition,1.86842105263,\n",
        "precedent,collection,1.75,\n",
        "precedent,example,4.0,\n",
        "precedent,group,1.725,\n",
        "precedent,information,2.925,\n",
        "precedent,law,3.85,\n",
        "prejudice,recognition,1.9,\n",
        "preservation,world,2.375,\n",
        "president,medal,1.7,\n",
        "problem,airport,1.64102564103,\n",
        "problem,challenge,6.28205128205,\n",
        "production,crew,3.65789473684,\n",
        "production,hike,1.64102564103,\n",
        "professor,cucumber,1.0,\n",
        "professor,doctor,4.84615384615,\n",
        "profit,loss,3.97435897436,\n",
        "profit,warning,1.95,\n",
        "psychology,Freud,4.38461538462,\n",
        "psychology,anxiety,3.5641025641,\n",
        "psychology,clinic,3.28947368421,\n",
        "psychology,cognition,3.45,\n",
        "psychology,depression,3.76923076923,\n",
        "psychology,discipline,3.35,\n",
        "psychology,doctor,3.85,\n",
        "psychology,fear,3.175,\n",
        "psychology,health,4.15,\n",
        "psychology,mind,4.89189189189,\n",
        "psychology,psychiatry,5.91428571429,\n",
        "psychology,science,5.18421052632,\n",
        "reason,criterion,4.675,\n",
        "reason,hypertension,1.33333333333,\n",
        "record,number,3.825,\n",
        "registration,arrangement,2.5,\n",
        "report,gain,2.13157894737,\n",
        "rock,jazz,4.85,\n",
        "rooster,voyage,1.45,\n",
        "school,center,2.875,\n",
        "seafood,food,6.41025641026,\n",
        "seafood,lobster,6.6,\n",
        "seafood,sea,4.025,\n",
        "secretary,senate,2.675,\n",
        "seven,series,2.025,\n",
        "shore,woodland,2.7,\n",
        "shower,flood,3.625,\n",
        "shower,thunderstorm,4.0,\n",
        "sign,recess,1.85,\n",
        "situation,conclusion,2.92307692308,\n",
        "situation,isolation,1.95,\n",
        "size,prominence,3.28205128205,\n",
        "skin,eye,2.925,\n",
        "smart,student,3.675,\n",
        "smart,stupid,4.15384615385,\n",
        "soap,opera,3.20512820513,\n",
        "space,chemistry,2.675,\n",
        "space,world,5.16216216216,\n",
        "start,match,2.05,\n",
        "start,year,1.6,\n",
        "stock,CD,2.73684210526,\n",
        "stock,egg,1.5641025641,\n",
        "stock,jaguar,1.4358974359,\n",
        "stock,life,2.125,\n",
        "stock,live,2.3,\n",
        "stock,market,4.52631578947,\n",
        "stock,phone,1.78947368421,\n",
        "street,avenue,7.28205128205,\n",
        "street,block,5.8,\n",
        "street,children,1.55,\n",
        "street,place,4.11764705882,\n",
        "stroke,hospital,3.4358974359,\n",
        "student,professor,3.925,\n",
        "sugar,approach,1.12820512821,\n",
        "summer,drought,3.4,\n",
        "summer,nature,3.425,\n",
        "telephone,communication,5.02564102564,\n",
        "television,film,5.55,\n",
        "television,radio,4.675,\n",
        "tennis,racket,4.05263157895,\n",
        "territory,kilometer,2.1,\n",
        "territory,surface,3.475,\n",
        "theater,history,2.07894736842,\n",
        "tiger,animal,6.9,\n",
        "tiger,carnivore,6.05,\n",
        "tiger,cat,6.325,\n",
        "tiger,fauna,3.89189189189,\n",
        "tiger,feline,5.8,\n",
        "tiger,jaguar,5.6,\n",
        "tiger,mammal,6.05,\n",
        "tiger,organism,3.45,\n",
        "tiger,tiger,9.375,\n",
        "tiger,zoo,3.9,\n",
        "tool,implement,3.725,\n",
        "train,car,4.4,\n",
        "travel,activity,3.475,\n",
        "treatment,recovery,5.0,\n",
        "type,kind,6.625,\n",
        "victim,emergency,3.38461538462,\n",
        "video,archive,3.425,\n",
        "viewer,serial,1.61538461538,\n",
        "vodka,brandy,5.41025641026,\n",
        "vodka,gin,5.58974358974,\n",
        "volunteer,motto,1.7,\n",
        "war,troops,5.0,\n",
        "water,seepage,3.45,\n",
        "weapon,secret,2.37837837838,\n",
        "weather,forecast,5.275,\n",
        "wood,forest,6.71052631579,\n",
        "word,similarity,2.025,\"\"\"\n",
        "f.write(filecontent)"
      ],
      "metadata": {
        "colab": {
          "base_uri": "https://localhost:8080/"
        },
        "id": "C_qSO9c5Gtwb",
        "outputId": "e048c210-8643-4a59-dafc-6ed5d95202c8"
      },
      "execution_count": 19,
      "outputs": [
        {
          "output_type": "execute_result",
          "data": {
            "text/plain": [
              "5208"
            ]
          },
          "metadata": {},
          "execution_count": 19
        }
      ]
    },
    {
      "cell_type": "code",
      "source": [
        "dataset = pd.read_csv(\"explicitsim353.csv\", encoding=\"windows-1252\")\n",
        "word1 = list(dataset[\"cs_word_1\"])\n",
        "word2 = list(dataset[\"cs_word_2\"])\n",
        "sim = list(dataset[\"average\"])\n",
        "print(word1[0], word2[0], sim[0])"
      ],
      "metadata": {
        "colab": {
          "base_uri": "https://localhost:8080/"
        },
        "id": "rjLdQy_QHpL0",
        "outputId": "7d1e2e80-b6b2-474d-df0d-ebede0425443"
      },
      "execution_count": 21,
      "outputs": [
        {
          "output_type": "stream",
          "name": "stdout",
          "text": [
            "glass magician 1.575\n"
          ]
        }
      ]
    },
    {
      "cell_type": "markdown",
      "source": [
        "Đánh giá theo độ đo Spearman, Pearson"
      ],
      "metadata": {
        "id": "Am3LHnOROTif"
      }
    },
    {
      "cell_type": "code",
      "source": [
        "from scipy import stats\n",
        "X = [1, 2, 3, 4, 5]\n",
        "Y = [1, 2, 3, 5, 4]\n",
        "\n",
        "# r = 1 - sum(d*d)/(n*(n+1)*(n-1))\n",
        "r = stats.spearmanr(X, Y)\n",
        "print(r.statistic)\n",
        "\n",
        "# r = 1 - sum(dx*dy)/sqrt(sum(dx*dx)*sum(dy*dy))\n",
        "r = stats.pearsonr(X, Y)\n",
        "print(r.statistic)"
      ],
      "metadata": {
        "colab": {
          "base_uri": "https://localhost:8080/"
        },
        "id": "bYe5kE2KOmzP",
        "outputId": "f73459dd-479a-47ea-897e-dfedff7725d6"
      },
      "execution_count": 3,
      "outputs": [
        {
          "output_type": "stream",
          "name": "stdout",
          "text": [
            "0.8999999999999998\n",
            "0.8999999999999999\n"
          ]
        }
      ]
    }
  ],
  "metadata": {
    "colab": {
      "provenance": []
    },
    "kernelspec": {
      "display_name": "Python 3",
      "name": "python3"
    },
    "language_info": {
      "name": "python"
    }
  },
  "nbformat": 4,
  "nbformat_minor": 0
}
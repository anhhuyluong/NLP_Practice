{
  "cells": [
    {
      "cell_type": "markdown",
      "metadata": {
        "id": "Lplt623xKG0M"
      },
      "source": [
        "**BÀI THỰC HÀNH 1 - PHÂN LỚP VĂN BẢN VỚI NAIVE BAYES VÀ LOGISTICREGRESSION**\n",
        "\n",
        "NỘI DUNG:\n",
        "\n",
        "*   CHUẨN BỊ NƠI LƯU TRỮ VÀ DỮ LIỆU\n",
        "*   SỬ DỤNG THƯ VIỆN\n",
        "*   CÀI ĐẶT THỦ CÔNG\n"
      ]
    },
    {
      "cell_type": "markdown",
      "metadata": {
        "id": "yEnc3_vtK1Ln"
      },
      "source": [
        "**1) CHUẨN BỊ NƠI LƯU TRỮ VÀ DỮ LIỆU**\n",
        "\n",
        "Chúng ta sẽ dùng Google Drive để lưu trữ dữ liệu và những kết quả cần thiết. Google Drive được ánh xạ vào đường dẫn /content/C/MyDrive.\n",
        "\n",
        "Sau đó, chúng ta cần upgrade kagglehub và scikit-learn để sử dụng phiên bản mới nhất."
      ]
    },
    {
      "cell_type": "markdown",
      "metadata": {
        "id": "oEZ0XyKvLmPh"
      },
      "source": [
        "Tiếp theo, chúng ta sẽ tạo thư mục NLP trên Google Drive.\n",
        "\n",
        "Sau đó, chuyển đến thư mục vừa được tạo bằng lệnh\n",
        "cd của linux"
      ]
    },
    {
      "cell_type": "markdown",
      "metadata": {
        "id": "gcDELOHcNXj3"
      },
      "source": [
        "Tiếp theo, chúng ta sẽ download dữ liệu SMS Spam từ kaggle. Và lưu file spam.csv vào thư mục NLP trên Google Drive"
      ]
    },
    {
      "cell_type": "code",
      "execution_count": 1,
      "metadata": {
        "colab": {
          "base_uri": "https://localhost:8080/"
        },
        "id": "xcbpYVjGM6m_",
        "outputId": "1257a2fe-6a7c-4fa6-98ed-0f01c59304bf"
      },
      "outputs": [
        {
          "data": {
            "text/plain": [
              "'c:\\\\Users\\\\windown\\\\PycharmProjects\\\\helloWorld\\\\NLP_Practice\\\\spam.csv'"
            ]
          },
          "execution_count": 1,
          "metadata": {},
          "output_type": "execute_result"
        }
      ],
      "source": [
        "import shutil\n",
        "import os\n",
        "\n",
        "src = os.path.expanduser(\"~/.cache/kagglehub/datasets/uciml/sms-spam-collection-dataset/versions/1/spam.csv\")\n",
        "dst = os.path.join(os.getcwd(), \"spam.csv\")\n",
        "shutil.copy(src, dst)"
      ]
    },
    {
      "cell_type": "markdown",
      "metadata": {
        "id": "iUGhxFhCNdLL"
      },
      "source": [
        "**2) SỬ DỤNG THƯ VIỆN**\n",
        "\n",
        "Chúng ta sẽ sử dụng lớp MultiNomialNB, BernoulliNB và LogisticRegression của thư viện Scikit-Learn, đồng thời sử dụng các lớp tiền xử lý dữ liệu của thư viện NLTK, hiển thị biểu đồ với MathPlotLib, và tính các chỉ số đánh giá với thư viện Scikit-Learn.\n",
        "\n",
        "Chúng ta cũng download các file dữ liệu của NLTK khi cần, gồm \"punk_tab\" và \"stopwords\"."
      ]
    },
    {
      "cell_type": "code",
      "execution_count": 2,
      "metadata": {
        "colab": {
          "base_uri": "https://localhost:8080/"
        },
        "id": "MwVeurAoUDEd",
        "outputId": "c749e2da-35f4-488a-fcb9-ff1a29dd5c0b"
      },
      "outputs": [
        {
          "name": "stderr",
          "output_type": "stream",
          "text": [
            "[nltk_data] Downloading package punkt_tab to\n",
            "[nltk_data]     C:\\Users\\windown\\AppData\\Roaming\\nltk_data...\n",
            "[nltk_data]   Package punkt_tab is already up-to-date!\n",
            "[nltk_data] Downloading package stopwords to\n",
            "[nltk_data]     C:\\Users\\windown\\AppData\\Roaming\\nltk_data...\n",
            "[nltk_data]   Package stopwords is already up-to-date!\n"
          ]
        },
        {
          "data": {
            "text/plain": [
              "True"
            ]
          },
          "execution_count": 2,
          "metadata": {},
          "output_type": "execute_result"
        }
      ],
      "source": [
        "import matplotlib.pyplot as plt\n",
        "import numpy as np\n",
        "import pandas as pd\n",
        "\n",
        "import re\n",
        "\n",
        "import nltk\n",
        "from nltk.corpus import stopwords\n",
        "from nltk.stem.porter import PorterStemmer\n",
        "from nltk.stem import WordNetLemmatizer\n",
        "\n",
        "from sklearn.feature_extraction.text import TfidfVectorizer\n",
        "\n",
        "from sklearn.preprocessing import LabelEncoder\n",
        "\n",
        "from sklearn.model_selection import train_test_split, cross_val_score\n",
        "\n",
        "from sklearn.naive_bayes import MultinomialNB, BernoulliNB\n",
        "from sklearn.linear_model import LogisticRegression\n",
        "from sklearn.metrics import precision_score, recall_score, classification_report, accuracy_score, f1_score, ConfusionMatrixDisplay\n",
        "from sklearn import metrics\n",
        "\n",
        "import seaborn as sns #Charts\n",
        "\n",
        "nltk.download('punkt_tab')\n",
        "nltk.download('stopwords')"
      ]
    },
    {
      "cell_type": "markdown",
      "metadata": {
        "id": "02F7x3SjOldF"
      },
      "source": [
        "Tiếp theo, chúng ta sẽ đọc ngữ liệu SMS Spam bằng cách dùng thư viện Pandas. Sau đó đổi tên cột để thuận tiện cho việc xử lý sau này."
      ]
    },
    {
      "cell_type": "code",
      "execution_count": 3,
      "metadata": {
        "colab": {
          "base_uri": "https://localhost:8080/",
          "height": 414
        },
        "id": "GWfOF-G1H0yr",
        "outputId": "719d5f87-fc3c-4c24-c22c-655003906be4"
      },
      "outputs": [
        {
          "name": "stdout",
          "output_type": "stream",
          "text": [
            "<class 'pandas.core.frame.DataFrame'>\n",
            "RangeIndex: 5572 entries, 0 to 5571\n",
            "Data columns (total 5 columns):\n",
            " #   Column      Non-Null Count  Dtype \n",
            "---  ------      --------------  ----- \n",
            " 0   v1          5572 non-null   object\n",
            " 1   v2          5572 non-null   object\n",
            " 2   Unnamed: 2  50 non-null     object\n",
            " 3   Unnamed: 3  12 non-null     object\n",
            " 4   Unnamed: 4  6 non-null      object\n",
            "dtypes: object(5)\n",
            "memory usage: 217.8+ KB\n"
          ]
        },
        {
          "data": {
            "text/html": [
              "<div>\n",
              "<style scoped>\n",
              "    .dataframe tbody tr th:only-of-type {\n",
              "        vertical-align: middle;\n",
              "    }\n",
              "\n",
              "    .dataframe tbody tr th {\n",
              "        vertical-align: top;\n",
              "    }\n",
              "\n",
              "    .dataframe thead th {\n",
              "        text-align: right;\n",
              "    }\n",
              "</style>\n",
              "<table border=\"1\" class=\"dataframe\">\n",
              "  <thead>\n",
              "    <tr style=\"text-align: right;\">\n",
              "      <th></th>\n",
              "      <th>Class</th>\n",
              "      <th>Message</th>\n",
              "    </tr>\n",
              "  </thead>\n",
              "  <tbody>\n",
              "    <tr>\n",
              "      <th>0</th>\n",
              "      <td>ham</td>\n",
              "      <td>Go until jurong point, crazy.. Available only ...</td>\n",
              "    </tr>\n",
              "    <tr>\n",
              "      <th>1</th>\n",
              "      <td>ham</td>\n",
              "      <td>Ok lar... Joking wif u oni...</td>\n",
              "    </tr>\n",
              "    <tr>\n",
              "      <th>2</th>\n",
              "      <td>spam</td>\n",
              "      <td>Free entry in 2 a wkly comp to win FA Cup fina...</td>\n",
              "    </tr>\n",
              "    <tr>\n",
              "      <th>3</th>\n",
              "      <td>ham</td>\n",
              "      <td>U dun say so early hor... U c already then say...</td>\n",
              "    </tr>\n",
              "    <tr>\n",
              "      <th>4</th>\n",
              "      <td>ham</td>\n",
              "      <td>Nah I don't think he goes to usf, he lives aro...</td>\n",
              "    </tr>\n",
              "  </tbody>\n",
              "</table>\n",
              "</div>"
            ],
            "text/plain": [
              "  Class                                            Message\n",
              "0   ham  Go until jurong point, crazy.. Available only ...\n",
              "1   ham                      Ok lar... Joking wif u oni...\n",
              "2  spam  Free entry in 2 a wkly comp to win FA Cup fina...\n",
              "3   ham  U dun say so early hor... U c already then say...\n",
              "4   ham  Nah I don't think he goes to usf, he lives aro..."
            ]
          },
          "execution_count": 3,
          "metadata": {},
          "output_type": "execute_result"
        }
      ],
      "source": [
        "dataset = pd.read_csv(\"spam.csv\", encoding=\"windows-1252\")\n",
        "dataset.info()\n",
        "dataset = dataset.drop(dataset[[\"Unnamed: 2\", \"Unnamed: 3\", \"Unnamed: 4\"]], axis=1)\n",
        "dataset.rename(columns = {\"v1\":\"Class\", \"v2\":\"Message\"}, inplace = True)\n",
        "dataset.head()"
      ]
    },
    {
      "cell_type": "markdown",
      "metadata": {
        "id": "3wGm54YxO6fo"
      },
      "source": [
        "Khi có được ngữ liệu, chúng ta cần thống kê để nắm thông tin sơ bộ về ngữ liệu. Một trong những thống kê quan trọng, là số lượng mẫu, hay data point của mỗi lớp."
      ]
    },
    {
      "cell_type": "code",
      "execution_count": 4,
      "metadata": {
        "colab": {
          "base_uri": "https://localhost:8080/",
          "height": 547
        },
        "id": "FVJs-YveJsI9",
        "outputId": "1d71bc20-5ac6-4768-a669-e2a34ef0b3e8"
      },
      "outputs": [
        {
          "data": {
            "text/plain": [
              "Text(0, 0.5, 'Số mẫu')"
            ]
          },
          "execution_count": 4,
          "metadata": {},
          "output_type": "execute_result"
        },
        {
          "data": {
            "image/png": "[encoded data removed]",
            "text/plain": [
              "<Figure size 1000x600 with 1 Axes>"
            ]
          },
          "metadata": {},
          "output_type": "display_data"
        }
      ],
      "source": [
        "cols= sns.color_palette(\"Blues\", n_colors=2)\n",
        "\n",
        "plt.figure(figsize=(10,6))\n",
        "fig = sns.countplot(data=dataset, x='Class', hue=\"Class\", palette= cols, legend=False)\n",
        "fig.set_title(\"Thống kê số mẫu theo lớp\", color=\"#000000\")\n",
        "fig.set_xlabel(\"Lớp\")\n",
        "fig.set_ylabel(\"Số mẫu\")"
      ]
    },
    {
      "cell_type": "markdown",
      "metadata": {
        "id": "KJ0-IJGBTy2W"
      },
      "source": [
        "Tiếp theo, là tiền xử lý dữ liệu, ở đây là các SMS. Chúng ta sẽ thực hiện:\n",
        "\n",
        "- Loại bỏ các ký tự không phải bộ chữ cái.\n",
        "- Chuyển thành chữ thường\n",
        "- Loại bỏ khoảng trắng thừa.\n",
        "\n",
        "(Các bạn có thể tiền xử lý với những bước xử lý khác, phù hợp với bài toán)"
      ]
    },
    {
      "cell_type": "code",
      "execution_count": 5,
      "metadata": {
        "colab": {
          "base_uri": "https://localhost:8080/"
        },
        "id": "DQVjtl-BMOpo",
        "outputId": "bbeb5481-4d76-47d3-f693-3dc02224acac"
      },
      "outputs": [
        {
          "name": "stdout",
          "output_type": "stream",
          "text": [
            "go until jurong point crazy available only in bugis n great world la e buffet cine there got amore wat\n",
            "ok lar joking wif u oni\n",
            "free entry in a wkly comp to win fa cup final tkts st may text fa to to receive entry question std txt rate t c s apply over s\n",
            "u dun say so early hor u c already then say\n",
            "nah i don t think he goes to usf he lives around here though\n"
          ]
        }
      ],
      "source": [
        "def Preprocess(Text):\n",
        "    sms = re.sub('[^a-zA-Z]', ' ', Text)\n",
        "    sms = sms.lower()\n",
        "    sms = sms.split()\n",
        "    sms = ' '.join(sms)\n",
        "    return sms\n",
        "\n",
        "dataset[\"PrepMessage\"] = dataset[\"Message\"].apply(Preprocess)\n",
        "#Lets have a look at a sample of texts after cleaning\n",
        "print(*dataset[\"PrepMessage\"][:5], sep = \"\\n\")"
      ]
    },
    {
      "cell_type": "markdown",
      "metadata": {
        "id": "0jTt8PfVUdGL"
      },
      "source": [
        "Sau đó, chúng ta sẽ thực hiện vector hóa các SMS của bộ ngữ liệu, thành một tập các vectors. Trong phần này, chúng ta dùng lớp TfidfVectorizer. Tuy nhiên, đến phần thực hành của các bạn, các bạn cần thực hiện thủ công theo ý tưởng của mình.\n",
        "\n",
        "Cùng với việc vector hóa nội dung SMS, chúng ta cũng mã hóa các giá trị lớp tương ứng với các SMS, thành những giá trị số với lớp LabelEncoder."
      ]
    },
    {
      "cell_type": "code",
      "execution_count": 6,
      "metadata": {
        "colab": {
          "base_uri": "https://localhost:8080/"
        },
        "id": "qSCQczQLOkkX",
        "outputId": "4810d789-4189-48a7-8d91-911964d7a9db"
      },
      "outputs": [
        {
          "name": "stdout",
          "output_type": "stream",
          "text": [
            "(5572, 7682)\n",
            "0    0\n",
            "1    0\n",
            "2    1\n",
            "3    0\n",
            "4    0\n",
            "Name: Class, dtype: int32\n"
          ]
        }
      ],
      "source": [
        "corpus = list(dataset[\"PrepMessage\"])\n",
        "tfidf = TfidfVectorizer()\n",
        "vectors = tfidf.fit_transform(corpus).toarray()\n",
        "\n",
        "print(vectors.shape)\n",
        "label_encoder = LabelEncoder()\n",
        "dataset[\"Class\"] = label_encoder.fit_transform(dataset[\"Class\"])\n",
        "print(dataset[\"Class\"][:5])"
      ]
    },
    {
      "cell_type": "markdown",
      "metadata": {
        "id": "6Ufqv2v2VU2c"
      },
      "source": [
        "Chúng ta bắt đầu chia dữ liệu thành các tập Train và Test. Trong đó, kích thước tập Train bằng 80% kích thước tập mẫu, và kích thước tập Test bằng 20% kích thước tập mẫu. Tập Train gồm Trainvecs chứa các vector đầu vào và Trainclss chứa các nhãn tương ứng. Tập Test gồm Testvecs chứa các vector đầu vào và Testclss chứa các nhãn tương ứng."
      ]
    },
    {
      "cell_type": "code",
      "execution_count": 7,
      "metadata": {
        "id": "c_czp01xOwrO"
      },
      "outputs": [],
      "source": [
        "classes = dataset[\"Class\"]\n",
        "\n",
        "Trainvecs, Testvecs, Trainclss, Testclss = train_test_split(vectors, classes, test_size=0.2, random_state=42)"
      ]
    },
    {
      "cell_type": "markdown",
      "metadata": {
        "id": "FTJm08nVWyut"
      },
      "source": [
        "Tiếp theo, chúng ta thử nghiệm hiệu quả của bộ phân lớp Multinomial Naive Bayes, bằng cách sử dụng lớp MultinomialNB của thư viện Scikit-Learn.\n",
        "Chúng ta tính cross validate score cho f1, với k-fold là 10. Sau đó tính Precision, Recall, F1, Accuracy trên tập Train và Accuracy trên tập Test. Cuối cùng, trình bày confusion matrix."
      ]
    },
    {
      "cell_type": "code",
      "execution_count": 8,
      "metadata": {
        "colab": {
          "base_uri": "https://localhost:8080/",
          "height": 521
        },
        "id": "IcUz16SIRdFz",
        "outputId": "fd9e619f-9028-4c10-cd46-e9c66d3858b7"
      },
      "outputs": [
        {
          "name": "stdout",
          "output_type": "stream",
          "text": [
            "0.803343768589805\n",
            "Precision: 0.9901960784313726, Recall: 0.6733333333333333, F1: 0.8015873015873016, Train Accuracy: 0.9683643706529056, Test Accuracy: 0.9551569506726457\n"
          ]
        },
        {
          "data": {
            "text/plain": [
              "<sklearn.metrics._plot.confusion_matrix.ConfusionMatrixDisplay at 0x1e7f94386b0>"
            ]
          },
          "execution_count": 8,
          "metadata": {},
          "output_type": "execute_result"
        },
        {
          "data": {
            "image/png": "[encoded data removed]",
            "text/plain": [
              "<Figure size 640x480 with 2 Axes>"
            ]
          },
          "metadata": {},
          "output_type": "display_data"
        }
      ],
      "source": [
        "cls = MultinomialNB()\n",
        "cls.fit(Trainvecs, Trainclss)\n",
        "cv_score = cross_val_score(cls, Trainvecs, Trainclss, scoring=\"f1\", cv=10)\n",
        "print(cv_score.mean())\n",
        "pred_train = cls.predict(Trainvecs)\n",
        "pred_test = cls.predict(Testvecs)\n",
        "prec = metrics.precision_score(Testclss, pred_test)\n",
        "recal = metrics.recall_score(Testclss, pred_test)\n",
        "f1_s = metrics.f1_score(Testclss, pred_test)\n",
        "train_accuracy = cls.score(Trainvecs, Trainclss)\n",
        "test_accuracy = cls.score(Testvecs, Testclss)\n",
        "print(\"Precision: {}, Recall: {}, F1: {}, Train Accuracy: {}, Test Accuracy: {}\".format(prec, recal, f1_s, train_accuracy, test_accuracy))\n",
        "ConfusionMatrixDisplay.from_estimator(cls, Testvecs, Testclss, cmap=\"Blues\")"
      ]
    },
    {
      "cell_type": "markdown",
      "metadata": {
        "id": "iMc8kLggZJOU"
      },
      "source": [
        "Tiếp theo, chúng ta thử nghiệm hiệu quả của bộ phân lớp Bernoulli Naive Bayes, bằng cách sử dụng lớp Bernoulli NB của thư viện Scikit-Learn.\n",
        "Chúng ta cũng tính cross validate score cho f1, với k-fold là 10. Sau đó tính Precision, Recall, F1, Accuracy trên tập Train và Accuracy trên tập Test. Cuối cùng, trình bày confusion matrix."
      ]
    },
    {
      "cell_type": "code",
      "execution_count": 9,
      "metadata": {
        "colab": {
          "base_uri": "https://localhost:8080/",
          "height": 521
        },
        "id": "V8A8D9VeV5kb",
        "outputId": "1e35c814-498a-4e5c-d461-20ae2a7fce60"
      },
      "outputs": [
        {
          "name": "stdout",
          "output_type": "stream",
          "text": [
            "0.9112250574062809\n",
            "Precision: 0.9689922480620154, Recall: 0.8333333333333334, F1: 0.8960573476702509, Train Accuracy: 0.9867623962306484, Test Accuracy: 0.9739910313901345\n"
          ]
        },
        {
          "data": {
            "text/plain": [
              "<sklearn.metrics._plot.confusion_matrix.ConfusionMatrixDisplay at 0x1e7fc915670>"
            ]
          },
          "execution_count": 9,
          "metadata": {},
          "output_type": "execute_result"
        },
        {
          "data": {
            "image/png": "[encoded data removed]",
            "text/plain": [
              "<Figure size 640x480 with 2 Axes>"
            ]
          },
          "metadata": {},
          "output_type": "display_data"
        }
      ],
      "source": [
        "cls = BernoulliNB()\n",
        "cls.fit(Trainvecs, Trainclss)\n",
        "cv_score = cross_val_score(cls, Trainvecs, Trainclss, scoring=\"f1\", cv=10)\n",
        "print(cv_score.mean())\n",
        "pred_train = cls.predict(Trainvecs)\n",
        "pred_test = cls.predict(Testvecs)\n",
        "prec = metrics.precision_score(Testclss, pred_test)\n",
        "recal = metrics.recall_score(Testclss, pred_test)\n",
        "f1_s = metrics.f1_score(Testclss, pred_test)\n",
        "train_accuracy = cls.score(Trainvecs, Trainclss)\n",
        "test_accuracy = cls.score(Testvecs, Testclss)\n",
        "print(\"Precision: {}, Recall: {}, F1: {}, Train Accuracy: {}, Test Accuracy: {}\".format(prec, recal, f1_s, train_accuracy, test_accuracy))\n",
        "ConfusionMatrixDisplay.from_estimator(cls, Testvecs, Testclss, cmap=\"Blues\")"
      ]
    },
    {
      "cell_type": "markdown",
      "metadata": {
        "id": "ZI7Fe5gsZT_J"
      },
      "source": [
        "Tiếp theo, chúng ta thử nghiệm hiệu quả của bộ phân lớp Logistic Regression, bằng cách sử dụng lớp LogisticRegression của thư viện Scikit-Learn.\n",
        "Chúng ta cũng tính cross validate score cho f1, với k-fold là 10. Sau đó tính Precision, Recall, F1, Accuracy trên tập Train và Accuracy trên tập Test. Cuối cùng, trình bày confusion matrix."
      ]
    },
    {
      "cell_type": "code",
      "execution_count": 10,
      "metadata": {
        "colab": {
          "base_uri": "https://localhost:8080/",
          "height": 521
        },
        "id": "SudyjqkARuN_",
        "outputId": "07095fc4-02e5-41fc-9afc-56871654dd05"
      },
      "outputs": [
        {
          "name": "stdout",
          "output_type": "stream",
          "text": [
            "0.8363898388026101\n",
            "Precision: 1.0, Recall: 0.7333333333333333, F1: 0.8461538461538461, Train Accuracy: 0.9764415526138658, Test Accuracy: 0.9641255605381166\n"
          ]
        },
        {
          "data": {
            "text/plain": [
              "<sklearn.metrics._plot.confusion_matrix.ConfusionMatrixDisplay at 0x1e7fc916210>"
            ]
          },
          "execution_count": 10,
          "metadata": {},
          "output_type": "execute_result"
        },
        {
          "data": {
            "image/png": "[encoded data removed]",
            "text/plain": [
              "<Figure size 640x480 with 2 Axes>"
            ]
          },
          "metadata": {},
          "output_type": "display_data"
        }
      ],
      "source": [
        "cls = LogisticRegression()\n",
        "cls.fit(Trainvecs, Trainclss)\n",
        "cv_score = cross_val_score(cls, Trainvecs, Trainclss, scoring=\"f1\", cv=10)\n",
        "print(cv_score.mean())\n",
        "pred_train = cls.predict(Trainvecs)\n",
        "pred_test = cls.predict(Testvecs)\n",
        "prec = metrics.precision_score(Testclss, pred_test)\n",
        "recal = metrics.recall_score(Testclss, pred_test)\n",
        "f1_s = metrics.f1_score(Testclss, pred_test)\n",
        "train_accuracy = cls.score(Trainvecs, Trainclss)\n",
        "test_accuracy = cls.score(Testvecs, Testclss)\n",
        "print(\"Precision: {}, Recall: {}, F1: {}, Train Accuracy: {}, Test Accuracy: {}\".format(prec, recal, f1_s, train_accuracy, test_accuracy))\n",
        "ConfusionMatrixDisplay.from_estimator(cls, Testvecs, Testclss, cmap=\"Blues\")"
      ]
    },
    {
      "cell_type": "markdown",
      "metadata": {
        "id": "vBnwVCa5ZsZq"
      },
      "source": [
        "**3) CÀI ĐẶT THỦ CÔNG**\n",
        "\n",
        "Phần này, các bạn sẽ tự huấn luyện các mô hình Multinomial Naive Bayes, Bernoulli Naive Bayes và Logistic Regression trên tập Train và đánh giá trên tập Test đã dùng ở trên.\n",
        "\n",
        "Đầu tiên, các bạn tham khảo đoạn chương trình nhỏ, huấn luyện mô hình Logistic Regression có đầu vào là một biến x và đầu ra là một biến y. Sau đó, các bạn có thể mở rộng để áp dụng cho bài toán SMS Spam Detection."
      ]
    },
    {
      "cell_type": "code",
      "execution_count": 11,
      "metadata": {
        "colab": {
          "base_uri": "https://localhost:8080/"
        },
        "id": "5SeUR_2RgrBX",
        "outputId": "5e6ab4e6-992e-4e03-c96f-e0e87d0e76f7"
      },
      "outputs": [
        {
          "name": "stdout",
          "output_type": "stream",
          "text": [
            "[1.67509653] [0.02211244]\n",
            "[4.08029638] [0.08614365]\n"
          ]
        }
      ],
      "source": [
        "X = [-3, -2, -1, 1, 2, 3]\n",
        "Y = [0, 0, 0, 1, 1, 1]\n",
        "\n",
        "def Logistic(x):\n",
        "  return 1/(1+np.exp(-x))\n",
        "\n",
        "def Forward(x, w, b):\n",
        "  z = np.dot(w, x) + b\n",
        "  return Logistic(z)\n",
        "\n",
        "W = np.array([1])\n",
        "B = 1\n",
        "WW = np.array([1])\n",
        "BB = 1\n",
        "lr = 0.5\n",
        "l2 = 0.05\n",
        "epoch = 50\n",
        "for i in range(epoch):\n",
        "  for j in range(len(X)):\n",
        "    d = (Y[j] - Forward(X[j], W, B))\n",
        "    W = W + (X[j] * d - l2 * W) * lr\n",
        "    B = B + (d - l2*B) * lr\n",
        "\n",
        "    dd = (Y[j] - Forward(X[j], WW, BB))\n",
        "    WW = WW + (X[j] * dd) * lr\n",
        "    BB = BB + dd * lr\n",
        "print(W, B)\n",
        "print(WW, BB)"
      ]
    },
    {
      "cell_type": "code",
      "execution_count": 12,
      "metadata": {
        "colab": {
          "base_uri": "https://localhost:8080/",
          "height": 342
        },
        "id": "lAnZJ1ueVa4I",
        "outputId": "d105be72-0591-4ca2-fb64-a201f5a7964e"
      },
      "outputs": [
        {
          "data": {
            "image/png": "[encoded data removed]",
            "text/plain": [
              "<Figure size 640x480 with 2 Axes>"
            ]
          },
          "metadata": {},
          "output_type": "display_data"
        }
      ],
      "source": [
        "Xp = [x / 50 for x in range(-250, 250)]\n",
        "\n",
        "fig, (ax1, ax2) = plt.subplots(1, 2)\n",
        "fig.subplots_adjust(bottom=0, right=1.2, top=0.5)\n",
        "ax1.plot(Xp, [Forward(x, W, B) for x in Xp])\n",
        "ax1.set_title('With L2')\n",
        "ax1.set_xlabel('x')\n",
        "ax1.set_ylabel('y')\n",
        "ax1.grid(True)\n",
        "ax2.plot(Xp, [Forward(x, WW, BB) for x in Xp])\n",
        "ax2.set_title('Without L2')\n",
        "ax2.set_xlabel('x')\n",
        "ax2.set_ylabel('y')\n",
        "ax2.grid(True)"
      ]
    },
    {
      "cell_type": "markdown",
      "metadata": {
        "id": "Xbf7-4YhL9Hv"
      },
      "source": [
        "Tiếp theo, các bạn sẽ cài đặt các lớp hoặc các hàm cần thiết để huấn luyện các mô hình Multinomial Naive Bayes, Bernoulli Naive Bayes và Logistic Regression.\n",
        "\n",
        "Đầu tiên là\n",
        "\n",
        "**Multinomial Naive Bayes** và kết quả thử nghiệm để so sánh với mô hình dùng thư viện."
      ]
    },
    {
      "cell_type": "markdown",
      "metadata": {},
      "source": [
        "# Công thức liên quan đến MultinomialNB\n",
        "\n",
        "* Gọi $P(c)$ là xác suất tiên nghiệm của lớp c\n",
        "* Gọi $P(x_i \\mid c)$ là xác suất của đặc trưng $x_i$ khi biết lớp c\n",
        "* $x = (x_1, x_2,..., x_n)$ là vector đặc trưng \n",
        "\n",
        "* Hàm dự đoán:\n",
        "$$\\hat{y} = \\text{arg max}_c (\\log P(c) + \\sum_{i=1}^n x_i \\log P(x_i \\mid c))$$"
      ]
    },
    {
      "cell_type": "code",
      "execution_count": 13,
      "metadata": {
        "id": "VAGF1fCUMjJN"
      },
      "outputs": [],
      "source": [
        "class MultinomialNaiveBayes:\n",
        "    def __init__(self, alpha=0.1):\n",
        "        self.alpha = alpha\n",
        "        self.class_log_prior = None # Xac suat tien nghiem\n",
        "        self.feature_log_prob = None # Xac suat cho cac dac trung\n",
        "        self.classes_ = None\n",
        "    \n",
        "    def fit(self, X, y):\n",
        "        # X: (n_samples, n_features), y: (n_samples,)\n",
        "        n_samples, n_features = X.shape\n",
        "        self.classes_ = np.unique(y)\n",
        "        n_classes = len(self.classes_)\n",
        "\n",
        "        self.class_log_prior = np.zeros(n_classes)\n",
        "        self.feature_log_prob = np.zeros((n_classes, n_features))\n",
        "\n",
        "        for idx, c in enumerate(self.classes_):\n",
        "            X_c = X[y == c]\n",
        "            class_count = X_c.shape[0]\n",
        "            self.class_log_prior = np.log(class_count / n_samples)\n",
        "\n",
        "            feature_count = X_c.sum(axis=0) + self.alpha\n",
        "            feature_prob = feature_count / feature_count.sum()\n",
        "            self.feature_log_prob[idx] = np.log(feature_prob)\n",
        "\n",
        "    def predict(self, X):\n",
        "        return np.array([self._predict_one(x) for x in X])\n",
        "    \n",
        "    def _predict_one(self, X):\n",
        "        # log(P(c)) + sum(x_i * log(P(x_i|c)))\n",
        "        log_probs = self.class_log_prior + (X * self.feature_log_prob).sum(axis=1)\n",
        "        return self.classes_[np.argmax(log_probs)]\n",
        "    \n",
        "    def score(self, X, y):\n",
        "        y_pred = self.predict(X)\n",
        "        return np.mean(y_pred == y)"
      ]
    },
    {
      "cell_type": "code",
      "execution_count": 14,
      "metadata": {},
      "outputs": [],
      "source": [
        "from sklearn.metrics import confusion_matrix"
      ]
    },
    {
      "cell_type": "code",
      "execution_count": 15,
      "metadata": {},
      "outputs": [
        {
          "name": "stdout",
          "output_type": "stream",
          "text": [
            "Precision: 0.7964071856287425, Recall: 0.8866666666666667, F1: 0.8391167192429022, Train Accuracy: 0.9827238052501682, Test Accuracy: 0.9542600896860987\n",
            "[[931  34]\n",
            " [ 17 133]]\n"
          ]
        }
      ],
      "source": [
        "model = MultinomialNaiveBayes(alpha=1.0)\n",
        "model.fit(Trainvecs, Trainclss)\n",
        "pred_train = model.predict(Trainvecs)\n",
        "pred_test = model.predict(Testvecs)\n",
        "prec = metrics.precision_score(Testclss, pred_test)\n",
        "recal = metrics.recall_score(Testclss, pred_test)\n",
        "f1_s = metrics.f1_score(Testclss, pred_test)\n",
        "train_accuracy = model.score(Trainvecs, Trainclss)\n",
        "test_accuracy = model.score(Testvecs, Testclss)\n",
        "print(\"Precision: {}, Recall: {}, F1: {}, Train Accuracy: {}, Test Accuracy: {}\".format(prec, recal, f1_s, train_accuracy, test_accuracy))\n",
        "print(confusion_matrix(Testclss, pred_test))"
      ]
    },
    {
      "cell_type": "markdown",
      "metadata": {
        "id": "cEUMN6ssMjwm"
      },
      "source": [
        "Tiếp theo là\n",
        "\n",
        "**Bernoulli Naive Bayes** và kết quả thử nghiệm để so sánh với mô hình dùng thư viện."
      ]
    },
    {
      "cell_type": "markdown",
      "metadata": {},
      "source": [
        "# Công thức liên quan đến BernoulliNB\n",
        "\n",
        "Với mỗi lớp c, ta tính:\n",
        "$$\\hat{y} = \\text{arg max}_c (\\log P(c) + \\sum_{i=1}^n [x_i \\cdot \\log P(x_i = 1 \\mid c) + (1 - x_i) \\cdot \\log P(x_i = 0 \\mid c) ])$$"
      ]
    },
    {
      "cell_type": "code",
      "execution_count": 16,
      "metadata": {
        "id": "99CFOB09MpKs"
      },
      "outputs": [],
      "source": [
        "class BernoulliNaiveBayes:\n",
        "    def __init__(self, alpha=0.1):\n",
        "        self.alpha = alpha\n",
        "        self.class_log_prior = None\n",
        "        self.feature_log_prob = None    # log P(x=1|c)\n",
        "        self.feature_log_prob_neg = None # log P(x=0|c)\n",
        "        self.classes_ = None\n",
        "    \n",
        "    def binarize(self, X):\n",
        "        return (X > 0).astype(int)\n",
        "    \n",
        "    def fit(self, X, y):\n",
        "        X = self.binarize(X)\n",
        "        n_samples, n_features = X.shape\n",
        "        self.classes_ = np.unique(y)\n",
        "        n_classes = len(self.classes_)\n",
        "\n",
        "        self.class_log_prior = np.zeros(n_classes)\n",
        "        self.feature_log_prob = np.zeros((n_classes, n_features))\n",
        "        self.feature_log_prob_neg = np.zeros((n_classes, n_features))\n",
        "\n",
        "        for idx, c in enumerate(self.classes_):\n",
        "            X_c = X[y == c]\n",
        "            class_count = X_c.shape[0]\n",
        "            self.class_log_prior[idx] = np.log(class_count / n_samples)\n",
        "\n",
        "            # Số mẫu trong lớp c có đặc trưng i = 1\n",
        "            feature_count = X_c.sum(axis=0)\n",
        "            smoothed = (feature_count + self.alpha) / (class_count + 2 * self.alpha)\n",
        "            self.feature_log_prob[idx] = np.log(smoothed)\n",
        "            self.feature_log_prob_neg[idx] = np.log(1 - smoothed)\n",
        "\n",
        "    def _predict_one(self, X):\n",
        "        # log P(c) + sum x_i * log P(x = 1|c) + (1 - x_i) * log P(x = 0|c)\n",
        "        log_probs = self.class_log_prior + \\\n",
        "                    (X * self.feature_log_prob + (1-X) * self.feature_log_prob_neg).sum(axis=1)\n",
        "        return self.classes_[np.argmax(log_probs)]\n",
        "    \n",
        "    def predict(self, X):\n",
        "        X = self.binarize(X)\n",
        "        return np.array([self._predict_one(x) for x in X])\n",
        "    \n",
        "    def score(self, X, y):\n",
        "        y_pred = self.predict(X)\n",
        "        return np.mean(y_pred == y)"
      ]
    },
    {
      "cell_type": "code",
      "execution_count": 17,
      "metadata": {},
      "outputs": [
        {
          "name": "stdout",
          "output_type": "stream",
          "text": [
            "Precision: 0.9689922480620154, Recall: 0.8333333333333334, F1: 0.8960573476702509, Train Accuracy: 0.9867623962306484, Test Accuracy: 0.9739910313901345\n",
            "[[961   4]\n",
            " [ 25 125]]\n"
          ]
        }
      ],
      "source": [
        "model = BernoulliNaiveBayes(alpha=1.0)\n",
        "model.fit(Trainvecs, Trainclss)\n",
        "pred_train = model.predict(Trainvecs)\n",
        "pred_test = model.predict(Testvecs)\n",
        "prec = metrics.precision_score(Testclss, pred_test)\n",
        "recal = metrics.recall_score(Testclss, pred_test)\n",
        "f1_s = metrics.f1_score(Testclss, pred_test)\n",
        "train_accuracy = model.score(Trainvecs, Trainclss)\n",
        "test_accuracy = model.score(Testvecs, Testclss)\n",
        "print(\"Precision: {}, Recall: {}, F1: {}, Train Accuracy: {}, Test Accuracy: {}\".format(prec, recal, f1_s, train_accuracy, test_accuracy))\n",
        "print(confusion_matrix(Testclss, pred_test))"
      ]
    },
    {
      "cell_type": "markdown",
      "metadata": {
        "id": "M7Hs93r2Mp4f"
      },
      "source": [
        "Cuối cùng là\n",
        "\n",
        "**Logistic Regression** và kết quả thử nghiệm để so sánh với mô hình dùng thư viện."
      ]
    },
    {
      "cell_type": "markdown",
      "metadata": {},
      "source": [
        "# Công thức liên quan đến Logistic Regression"
      ]
    },
    {
      "cell_type": "markdown",
      "metadata": {},
      "source": [
        "* Dự đoán xác suất:\n",
        "\n",
        "$$\\hat{y} = \\sigma (w^Tx + b) = \\frac{1}{1 + e^-{w^Tx + b}}$$\n",
        "\n",
        "* Hàm Loss - Binary Cross Entropy\n",
        "\n",
        "$$\\mathcal{L} = -\\frac{1}{n} \\sum_{i=1}^n [y_i \\log(\\hat{y}_i) + (1 - y_i) \\log(1 - \\hat{y}_1)]$$\n",
        "\n",
        "* Huấn luyện bằng gradient cập nhật w và b"
      ]
    },
    {
      "cell_type": "code",
      "execution_count": 20,
      "metadata": {
        "id": "q2DW7WwkMvUD"
      },
      "outputs": [],
      "source": [
        "class LR:\n",
        "    def __init__(self, lr=0.01, n_iters=1000):\n",
        "        self.lr = lr\n",
        "        self.n_iters = n_iters\n",
        "        self.w = None\n",
        "        self.b = None\n",
        "    \n",
        "    def sigmoid(self, z):\n",
        "        return 1 / (1 + np.exp(-z))\n",
        "    \n",
        "    def fit(self, X, y):\n",
        "        n_samples, n_features = X.shape\n",
        "        self.w = np.zeros(n_features)\n",
        "        self.b = 0\n",
        "\n",
        "        pos_weights = n_samples / (2 * np.sum(y))\n",
        "        neg_weights = n_samples / (2 * (n_samples - np.sum(y)))\n",
        "\n",
        "        for _ in range(self.n_iters):\n",
        "            linear_model = np.dot(X, self.w) + self.b\n",
        "            y_pred = self.sigmoid(linear_model)\n",
        "\n",
        "            weights = np.where(y == 1, pos_weights, neg_weights)\n",
        "\n",
        "            dw = (1 / n_samples) * np.dot(X.T, weights * (y_pred - y))\n",
        "            db = (1 / n_samples) * np.sum(weights * (y_pred - y))\n",
        "\n",
        "            self.w -= self.lr * dw\n",
        "            self.b -= self.lr * db\n",
        "    \n",
        "    def predict_proba(self, X):\n",
        "        linear_model = np.dot(X, self.w) + self.b\n",
        "        return self.sigmoid(linear_model)\n",
        "    \n",
        "    def predict(self, X):\n",
        "        y_probs = self.predict_proba(X)\n",
        "        return np.where(y_probs >= 0.5, 1, 0)\n",
        "    \n",
        "    def score(self, X, y):\n",
        "        y_pred = self.predict(X)\n",
        "        return np.mean(y_pred == y)"
      ]
    },
    {
      "cell_type": "code",
      "execution_count": 21,
      "metadata": {},
      "outputs": [
        {
          "name": "stdout",
          "output_type": "stream",
          "text": [
            "Precision: 0.8057142857142857, Recall: 0.94, F1: 0.8676923076923077, Train Accuracy: 0.962979582678932, Test Accuracy: 0.9614349775784753\n",
            "[[931  34]\n",
            " [  9 141]]\n"
          ]
        }
      ],
      "source": [
        "model = LR()\n",
        "model.fit(Trainvecs, Trainclss)\n",
        "pred_train = model.predict(Trainvecs)\n",
        "pred_test = model.predict(Testvecs)\n",
        "prec = metrics.precision_score(Testclss, pred_test)\n",
        "recal = metrics.recall_score(Testclss, pred_test)\n",
        "f1_s = metrics.f1_score(Testclss, pred_test)\n",
        "train_accuracy = model.score(Trainvecs, Trainclss)\n",
        "test_accuracy = model.score(Testvecs, Testclss)\n",
        "print(\"Precision: {}, Recall: {}, F1: {}, Train Accuracy: {}, Test Accuracy: {}\".format(prec, recal, f1_s, train_accuracy, test_accuracy))\n",
        "print(confusion_matrix(Testclss, pred_test))"
      ]
    },
    {
      "cell_type": "code",
      "execution_count": null,
      "metadata": {},
      "outputs": [],
      "source": []
    }
  ],
  "metadata": {
    "colab": {
      "provenance": []
    },
    "kernelspec": {
      "display_name": ".venv",
      "language": "python",
      "name": "python3"
    },
    "language_info": {
      "codemirror_mode": {
        "name": "ipython",
        "version": 3
      },
      "file_extension": ".py",
      "mimetype": "text/x-python",
      "name": "python",
      "nbconvert_exporter": "python",
      "pygments_lexer": "ipython3",
      "version": "3.12.0"
    }
  },
  "nbformat": 4,
  "nbformat_minor": 0
}
